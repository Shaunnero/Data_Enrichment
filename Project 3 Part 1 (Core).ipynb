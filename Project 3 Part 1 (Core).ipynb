{
 "cells": [
  {
   "cell_type": "code",
   "execution_count": 1,
   "id": "62653e69-f47a-4c8c-b6d1-360995292324",
   "metadata": {},
   "outputs": [],
   "source": [
    "# imports\n",
    "import pandas as pd\n",
    "import numpy as np\n",
    "import sqlalchemy\n",
    "from sqlalchemy import create_engine"
   ]
  },
  {
   "cell_type": "code",
   "execution_count": 2,
   "id": "3b001f8e-0f98-4182-8f38-27e4f28bdb16",
   "metadata": {},
   "outputs": [],
   "source": [
    "basics_url=\"https://datasets.imdbws.com/title.basics.tsv.gz\"\n",
    "akas_url='https://datasets.imdbws.com/title.akas.tsv.gz'\n",
    "ratings_url='https://datasets.imdbws.com/title.ratings.tsv.gz'"
   ]
  },
  {
   "cell_type": "markdown",
   "id": "7c46b026-0e49-43af-a38e-f109a3e87f4a",
   "metadata": {},
   "source": [
    "# Title.akas.tsv.gz\r\n",
    "\r\n",
    "- **titleId (string):** A `tconst`, an alphanumeric unique identifier of the title\r\n",
    "- **ordering (integer):** A number to uniquely identify rows for a given `titleId`\r\n",
    "- **title (string):** The localized title\r\n",
    "- **region (string):** The region for this version of the title\r\n",
    "- **language (string):** The language of the title\r\n",
    "- **types (array):** Enumerated set of attributes for this alternative title. One or more of the following: \"alternative\", \"dvd\", \"festival\", \"tv\", \"video\", \"working\", \"original\", \"imdbDisplay\". New values may be added in the future without warning\r\n",
    "- **attributes (array):** Additional terms to describe this alternative title, not enumerated\r\n",
    "- **isOriginalTitle (boolean):** 0: not original title; 1: origin\n",
    "# Title.basics.tsv.gz\r\n",
    "\r\n",
    "- **tconst (string):** Alphanumeric unique identifier of the title\r\n",
    "- **titleType (string):** The type/format of the title (e.g., movie, short, tvseries, tvepisode, video, etc)\r\n",
    "- **primaryTitle (string):** The more popular title / the title used by the filmmakers on promotional materials at the point of release\r\n",
    "- **originalTitle (string):** Original title, in the original language\r\n",
    "- **isAdult (boolean):** 0: non-adult title; 1: adult title\r\n",
    "- **startYear (YYYY):** Represents the release year of a title. In the case of TV Series, it is the series start year\r\n",
    "- **endYear (YYYY):** TV Series end year. ‘\\N’ for all other title types\r\n",
    "- **runtimeMinutes:** Primary runtime of the title, in minutes\r\n",
    "- **genres (string array):** Includes up to three genres associated with\n",
    "\n",
    "# Title.ratings.tsv.gz\r\n",
    "\r\n",
    "- **tconst (string):** Alphanumeric unique identifier of the title\r\n",
    "- **averageRating:** Weighted average of all the individual user ratings\r\n",
    "- **numVotes:** Number of votes the title has received\r\n",
    " the title\r\n",
    "al title\r\n"
   ]
  },
  {
   "cell_type": "markdown",
   "id": "59d369c8-e078-4b18-a13e-5ed3e6bbe412",
   "metadata": {},
   "source": [
    "[Source](https://datasets.imdbws.com/)\n"
   ]
  },
  {
   "cell_type": "code",
   "execution_count": 3,
   "id": "9919263a-6c24-48c9-bb09-31296b8d4e3d",
   "metadata": {},
   "outputs": [],
   "source": [
    "basics = pd.read_csv(basics_url, sep='\\t', low_memory=False)"
   ]
  },
  {
   "cell_type": "code",
   "execution_count": 11,
   "id": "91fe111a-5e60-4985-9450-fdcbea74fd76",
   "metadata": {},
   "outputs": [],
   "source": [
    "#Replace \"\\N\" with np.nan:\n",
    "basics.replace(r'\\N', np.nan, inplace=True)\n"
   ]
  },
  {
   "cell_type": "code",
   "execution_count": 10,
   "id": "5691ece6-d9d6-4c3a-b28b-cff5e9b799a3",
   "metadata": {},
   "outputs": [],
   "source": [
    "#Eliminate movies that are null for runtimeMinutes:\n",
    "basics = basics.dropna(subset=['runtimeMinutes'])"
   ]
  },
  {
   "cell_type": "code",
   "execution_count": 8,
   "id": "a5f5a168-7475-4565-bf3f-960b9a206fb5",
   "metadata": {},
   "outputs": [],
   "source": [
    "#Eliminate movies that are null for genre:\n",
    "basics = basics.dropna(subset=['genres'])\n"
   ]
  },
  {
   "cell_type": "code",
   "execution_count": 12,
   "id": "35098c66-f603-4f3b-a107-7abd62719d3d",
   "metadata": {},
   "outputs": [],
   "source": [
    "#Keep only titleType==Movie:\n",
    "basics = basics[basics['titleType'] == 'movie']\n"
   ]
  },
  {
   "cell_type": "code",
   "execution_count": 25,
   "id": "70b04bb0-7a26-44d8-a0f9-8e600a30328a",
   "metadata": {},
   "outputs": [],
   "source": [
    "# Remove duplicates\n",
    "basics = basics.drop_duplicates()"
   ]
  },
  {
   "cell_type": "code",
   "execution_count": 26,
   "id": "b4f52f6b-9654-4093-a7ba-8f77e6cb9a33",
   "metadata": {},
   "outputs": [
    {
     "name": "stdout",
     "output_type": "stream",
     "text": [
      "             tconst titleType  \\\n",
      "13081     tt0013274     movie   \n",
      "34800     tt0035423     movie   \n",
      "61111     tt0062336     movie   \n",
      "67485     tt0068865     movie   \n",
      "67663     tt0069049     movie   \n",
      "...             ...       ...   \n",
      "10246115  tt9916538     movie   \n",
      "10246156  tt9916622     movie   \n",
      "10246183  tt9916680     movie   \n",
      "10246205  tt9916730     movie   \n",
      "10246215  tt9916754     movie   \n",
      "\n",
      "                                               primaryTitle  \\\n",
      "13081                           Istoriya grazhdanskoy voyny   \n",
      "34800                                        Kate & Leopold   \n",
      "61111     The Tango of the Widower and Its Distorting Mi...   \n",
      "67485                                   Lives of Performers   \n",
      "67663                            The Other Side of the Wind   \n",
      "...                                                     ...   \n",
      "10246115                                Kuambil Lagi Hatiku   \n",
      "10246156        Rodolpho Teóphilo - O Legado de um Pioneiro   \n",
      "10246183  De la ilusión al desconcierto: cine colombiano...   \n",
      "10246205                                             6 Gunn   \n",
      "10246215                     Chico Albuquerque - Revelações   \n",
      "\n",
      "                                              originalTitle isAdult  \\\n",
      "13081                           Istoriya grazhdanskoy voyny       0   \n",
      "34800                                        Kate & Leopold       0   \n",
      "61111             El tango del viudo y su espejo deformante       0   \n",
      "67485                                   Lives of Performers       0   \n",
      "67663                            The Other Side of the Wind       0   \n",
      "...                                                     ...     ...   \n",
      "10246115                                Kuambil Lagi Hatiku       0   \n",
      "10246156        Rodolpho Teóphilo - O Legado de um Pioneiro       0   \n",
      "10246183  De la ilusión al desconcierto: cine colombiano...       0   \n",
      "10246205                                             6 Gunn       0   \n",
      "10246215                     Chico Albuquerque - Revelações       0   \n",
      "\n",
      "          startYear endYear runtimeMinutes                  genres  \n",
      "13081          2021     NaN             94             Documentary  \n",
      "34800          2001     NaN            118  Comedy,Fantasy,Romance  \n",
      "61111          2020     NaN             70                   Drama  \n",
      "67485          2016     NaN             90                   Drama  \n",
      "67663          2018     NaN            122                   Drama  \n",
      "...             ...     ...            ...                     ...  \n",
      "10246115       2019     NaN            123                   Drama  \n",
      "10246156       2015     NaN             57             Documentary  \n",
      "10246183       2007     NaN            100             Documentary  \n",
      "10246205       2017     NaN            116                   Drama  \n",
      "10246215       2013     NaN             49             Documentary  \n",
      "\n",
      "[225156 rows x 9 columns]\n"
     ]
    }
   ],
   "source": [
    "# Check for and remove duplicates\n",
    "basics = basics[~basics.duplicated()]\n",
    "\n",
    "# Print the resulting DataFrame\n",
    "print(basics)"
   ]
  },
  {
   "cell_type": "code",
   "execution_count": 27,
   "id": "fe365d2e-a16d-49e8-a0b3-6b63b9be7424",
   "metadata": {},
   "outputs": [],
   "source": [
    "# Convert 'startYear' to numeric\n",
    "basics['startYear'] = pd.to_numeric(basics['startYear'], errors='coerce')\n",
    "# Convert 'startYear' to integer\n",
    "basics['startYear'] = basics['startYear'].astype(int)\n",
    "# Keep startYear 2000-2022\n",
    "basics = basics[(basics['startYear'].notnull()) & (basics['startYear'] >= 2000) & (basics['startYear'] <= 2022)]\n"
   ]
  },
  {
   "cell_type": "code",
   "execution_count": 29,
   "id": "fb345f3a-8515-4e55-907c-b37034381e43",
   "metadata": {},
   "outputs": [],
   "source": [
    "# Eliminate movies that include \"Documentary\" in genre\n",
    "basics = basics[~basics['genres'].str.contains('Documentary')]\n"
   ]
  },
  {
   "cell_type": "code",
   "execution_count": 35,
   "id": "536a2d28-9a76-4444-89a9-71c1ea5aa26f",
   "metadata": {},
   "outputs": [
    {
     "data": {
      "text/html": [
       "<div>\n",
       "<style scoped>\n",
       "    .dataframe tbody tr th:only-of-type {\n",
       "        vertical-align: middle;\n",
       "    }\n",
       "\n",
       "    .dataframe tbody tr th {\n",
       "        vertical-align: top;\n",
       "    }\n",
       "\n",
       "    .dataframe thead th {\n",
       "        text-align: right;\n",
       "    }\n",
       "</style>\n",
       "<table border=\"1\" class=\"dataframe\">\n",
       "  <thead>\n",
       "    <tr style=\"text-align: right;\">\n",
       "      <th></th>\n",
       "      <th>tconst</th>\n",
       "      <th>titleType</th>\n",
       "      <th>primaryTitle</th>\n",
       "      <th>originalTitle</th>\n",
       "      <th>isAdult</th>\n",
       "      <th>startYear</th>\n",
       "      <th>endYear</th>\n",
       "      <th>runtimeMinutes</th>\n",
       "      <th>genres</th>\n",
       "    </tr>\n",
       "  </thead>\n",
       "  <tbody>\n",
       "    <tr>\n",
       "      <th>34800</th>\n",
       "      <td>tt0035423</td>\n",
       "      <td>movie</td>\n",
       "      <td>Kate &amp; Leopold</td>\n",
       "      <td>Kate &amp; Leopold</td>\n",
       "      <td>0</td>\n",
       "      <td>2001</td>\n",
       "      <td>NaN</td>\n",
       "      <td>118</td>\n",
       "      <td>Comedy,Fantasy,Romance</td>\n",
       "    </tr>\n",
       "    <tr>\n",
       "      <th>61111</th>\n",
       "      <td>tt0062336</td>\n",
       "      <td>movie</td>\n",
       "      <td>The Tango of the Widower and Its Distorting Mi...</td>\n",
       "      <td>El tango del viudo y su espejo deformante</td>\n",
       "      <td>0</td>\n",
       "      <td>2020</td>\n",
       "      <td>NaN</td>\n",
       "      <td>70</td>\n",
       "      <td>Drama</td>\n",
       "    </tr>\n",
       "    <tr>\n",
       "      <th>67485</th>\n",
       "      <td>tt0068865</td>\n",
       "      <td>movie</td>\n",
       "      <td>Lives of Performers</td>\n",
       "      <td>Lives of Performers</td>\n",
       "      <td>0</td>\n",
       "      <td>2016</td>\n",
       "      <td>NaN</td>\n",
       "      <td>90</td>\n",
       "      <td>Drama</td>\n",
       "    </tr>\n",
       "    <tr>\n",
       "      <th>67663</th>\n",
       "      <td>tt0069049</td>\n",
       "      <td>movie</td>\n",
       "      <td>The Other Side of the Wind</td>\n",
       "      <td>The Other Side of the Wind</td>\n",
       "      <td>0</td>\n",
       "      <td>2018</td>\n",
       "      <td>NaN</td>\n",
       "      <td>122</td>\n",
       "      <td>Drama</td>\n",
       "    </tr>\n",
       "    <tr>\n",
       "      <th>80548</th>\n",
       "      <td>tt0082328</td>\n",
       "      <td>movie</td>\n",
       "      <td>Embodiment of Evil</td>\n",
       "      <td>Encarnação do Demônio</td>\n",
       "      <td>0</td>\n",
       "      <td>2008</td>\n",
       "      <td>NaN</td>\n",
       "      <td>94</td>\n",
       "      <td>Horror</td>\n",
       "    </tr>\n",
       "  </tbody>\n",
       "</table>\n",
       "</div>"
      ],
      "text/plain": [
       "          tconst titleType                                       primaryTitle  \\\n",
       "34800  tt0035423     movie                                     Kate & Leopold   \n",
       "61111  tt0062336     movie  The Tango of the Widower and Its Distorting Mi...   \n",
       "67485  tt0068865     movie                                Lives of Performers   \n",
       "67663  tt0069049     movie                         The Other Side of the Wind   \n",
       "80548  tt0082328     movie                                 Embodiment of Evil   \n",
       "\n",
       "                                   originalTitle isAdult  startYear endYear  \\\n",
       "34800                             Kate & Leopold       0       2001     NaN   \n",
       "61111  El tango del viudo y su espejo deformante       0       2020     NaN   \n",
       "67485                        Lives of Performers       0       2016     NaN   \n",
       "67663                 The Other Side of the Wind       0       2018     NaN   \n",
       "80548                      Encarnação do Demônio       0       2008     NaN   \n",
       "\n",
       "      runtimeMinutes                  genres  \n",
       "34800            118  Comedy,Fantasy,Romance  \n",
       "61111             70                   Drama  \n",
       "67485             90                   Drama  \n",
       "67663            122                   Drama  \n",
       "80548             94                  Horror  "
      ]
     },
     "execution_count": 35,
     "metadata": {},
     "output_type": "execute_result"
    }
   ],
   "source": [
    "basics.head()"
   ]
  },
  {
   "cell_type": "code",
   "execution_count": 34,
   "id": "c3088556-8ba4-40f8-8fb8-305afe560a15",
   "metadata": {},
   "outputs": [],
   "source": [
    "#Keep only US movies (Use AKAs table):\n",
    "us_movies = basics.merge(akas[akas['region'] == 'US'], left_on='tconst', right_on='titleId')\n"
   ]
  },
  {
   "cell_type": "code",
   "execution_count": 50,
   "id": "34d90100-eff7-49ca-a484-93b98c26fce1",
   "metadata": {},
   "outputs": [
    {
     "data": {
      "text/html": [
       "<div>\n",
       "<style scoped>\n",
       "    .dataframe tbody tr th:only-of-type {\n",
       "        vertical-align: middle;\n",
       "    }\n",
       "\n",
       "    .dataframe tbody tr th {\n",
       "        vertical-align: top;\n",
       "    }\n",
       "\n",
       "    .dataframe thead th {\n",
       "        text-align: right;\n",
       "    }\n",
       "</style>\n",
       "<table border=\"1\" class=\"dataframe\">\n",
       "  <thead>\n",
       "    <tr style=\"text-align: right;\">\n",
       "      <th></th>\n",
       "      <th>tconst</th>\n",
       "      <th>titleType</th>\n",
       "      <th>primaryTitle</th>\n",
       "      <th>originalTitle</th>\n",
       "      <th>isAdult</th>\n",
       "      <th>startYear</th>\n",
       "      <th>endYear</th>\n",
       "      <th>runtimeMinutes</th>\n",
       "      <th>genres</th>\n",
       "      <th>titleId</th>\n",
       "      <th>ordering</th>\n",
       "      <th>title</th>\n",
       "      <th>region</th>\n",
       "      <th>language</th>\n",
       "      <th>types</th>\n",
       "      <th>attributes</th>\n",
       "      <th>isOriginalTitle</th>\n",
       "    </tr>\n",
       "  </thead>\n",
       "  <tbody>\n",
       "    <tr>\n",
       "      <th>0</th>\n",
       "      <td>tt0035423</td>\n",
       "      <td>movie</td>\n",
       "      <td>Kate &amp; Leopold</td>\n",
       "      <td>Kate &amp; Leopold</td>\n",
       "      <td>0</td>\n",
       "      <td>2001</td>\n",
       "      <td>NaN</td>\n",
       "      <td>118</td>\n",
       "      <td>Comedy,Fantasy,Romance</td>\n",
       "      <td>tt0035423</td>\n",
       "      <td>39</td>\n",
       "      <td>Kate and Leopold</td>\n",
       "      <td>US</td>\n",
       "      <td>\\N</td>\n",
       "      <td>\\N</td>\n",
       "      <td>alternative spelling</td>\n",
       "      <td>0</td>\n",
       "    </tr>\n",
       "    <tr>\n",
       "      <th>1</th>\n",
       "      <td>tt0035423</td>\n",
       "      <td>movie</td>\n",
       "      <td>Kate &amp; Leopold</td>\n",
       "      <td>Kate &amp; Leopold</td>\n",
       "      <td>0</td>\n",
       "      <td>2001</td>\n",
       "      <td>NaN</td>\n",
       "      <td>118</td>\n",
       "      <td>Comedy,Fantasy,Romance</td>\n",
       "      <td>tt0035423</td>\n",
       "      <td>42</td>\n",
       "      <td>Kate &amp; Leopold</td>\n",
       "      <td>US</td>\n",
       "      <td>\\N</td>\n",
       "      <td>imdbDisplay</td>\n",
       "      <td>\\N</td>\n",
       "      <td>0</td>\n",
       "    </tr>\n",
       "    <tr>\n",
       "      <th>2</th>\n",
       "      <td>tt0062336</td>\n",
       "      <td>movie</td>\n",
       "      <td>The Tango of the Widower and Its Distorting Mi...</td>\n",
       "      <td>El tango del viudo y su espejo deformante</td>\n",
       "      <td>0</td>\n",
       "      <td>2020</td>\n",
       "      <td>NaN</td>\n",
       "      <td>70</td>\n",
       "      <td>Drama</td>\n",
       "      <td>tt0062336</td>\n",
       "      <td>6</td>\n",
       "      <td>The Tango of the Widower and Its Distorting Mi...</td>\n",
       "      <td>US</td>\n",
       "      <td>\\N</td>\n",
       "      <td>imdbDisplay</td>\n",
       "      <td>\\N</td>\n",
       "      <td>0</td>\n",
       "    </tr>\n",
       "    <tr>\n",
       "      <th>3</th>\n",
       "      <td>tt0068865</td>\n",
       "      <td>movie</td>\n",
       "      <td>Lives of Performers</td>\n",
       "      <td>Lives of Performers</td>\n",
       "      <td>0</td>\n",
       "      <td>2016</td>\n",
       "      <td>NaN</td>\n",
       "      <td>90</td>\n",
       "      <td>Drama</td>\n",
       "      <td>tt0068865</td>\n",
       "      <td>3</td>\n",
       "      <td>Lives of Performers</td>\n",
       "      <td>US</td>\n",
       "      <td>\\N</td>\n",
       "      <td>imdbDisplay</td>\n",
       "      <td>\\N</td>\n",
       "      <td>0</td>\n",
       "    </tr>\n",
       "    <tr>\n",
       "      <th>4</th>\n",
       "      <td>tt0069049</td>\n",
       "      <td>movie</td>\n",
       "      <td>The Other Side of the Wind</td>\n",
       "      <td>The Other Side of the Wind</td>\n",
       "      <td>0</td>\n",
       "      <td>2018</td>\n",
       "      <td>NaN</td>\n",
       "      <td>122</td>\n",
       "      <td>Drama</td>\n",
       "      <td>tt0069049</td>\n",
       "      <td>3</td>\n",
       "      <td>The Other Side of the Wind</td>\n",
       "      <td>US</td>\n",
       "      <td>\\N</td>\n",
       "      <td>imdbDisplay</td>\n",
       "      <td>\\N</td>\n",
       "      <td>0</td>\n",
       "    </tr>\n",
       "  </tbody>\n",
       "</table>\n",
       "</div>"
      ],
      "text/plain": [
       "      tconst titleType                                       primaryTitle  \\\n",
       "0  tt0035423     movie                                     Kate & Leopold   \n",
       "1  tt0035423     movie                                     Kate & Leopold   \n",
       "2  tt0062336     movie  The Tango of the Widower and Its Distorting Mi...   \n",
       "3  tt0068865     movie                                Lives of Performers   \n",
       "4  tt0069049     movie                         The Other Side of the Wind   \n",
       "\n",
       "                               originalTitle isAdult  startYear endYear  \\\n",
       "0                             Kate & Leopold       0       2001     NaN   \n",
       "1                             Kate & Leopold       0       2001     NaN   \n",
       "2  El tango del viudo y su espejo deformante       0       2020     NaN   \n",
       "3                        Lives of Performers       0       2016     NaN   \n",
       "4                 The Other Side of the Wind       0       2018     NaN   \n",
       "\n",
       "  runtimeMinutes                  genres    titleId  ordering  \\\n",
       "0            118  Comedy,Fantasy,Romance  tt0035423        39   \n",
       "1            118  Comedy,Fantasy,Romance  tt0035423        42   \n",
       "2             70                   Drama  tt0062336         6   \n",
       "3             90                   Drama  tt0068865         3   \n",
       "4            122                   Drama  tt0069049         3   \n",
       "\n",
       "                                               title region language  \\\n",
       "0                                   Kate and Leopold     US       \\N   \n",
       "1                                     Kate & Leopold     US       \\N   \n",
       "2  The Tango of the Widower and Its Distorting Mi...     US       \\N   \n",
       "3                                Lives of Performers     US       \\N   \n",
       "4                         The Other Side of the Wind     US       \\N   \n",
       "\n",
       "         types            attributes isOriginalTitle  \n",
       "0           \\N  alternative spelling               0  \n",
       "1  imdbDisplay                    \\N               0  \n",
       "2  imdbDisplay                    \\N               0  \n",
       "3  imdbDisplay                    \\N               0  \n",
       "4  imdbDisplay                    \\N               0  "
      ]
     },
     "execution_count": 50,
     "metadata": {},
     "output_type": "execute_result"
    }
   ],
   "source": [
    "us_movies.head()"
   ]
  },
  {
   "cell_type": "code",
   "execution_count": 32,
   "id": "d98addb2-ca77-48bf-871c-ded1fbacdfdd",
   "metadata": {},
   "outputs": [],
   "source": [
    "akas = pd.read_csv(akas_url, sep='\\t', low_memory=False)"
   ]
  },
  {
   "cell_type": "code",
   "execution_count": 33,
   "id": "772564b4-3394-464e-b86a-d64e31f5c9c8",
   "metadata": {},
   "outputs": [
    {
     "data": {
      "text/html": [
       "<div>\n",
       "<style scoped>\n",
       "    .dataframe tbody tr th:only-of-type {\n",
       "        vertical-align: middle;\n",
       "    }\n",
       "\n",
       "    .dataframe tbody tr th {\n",
       "        vertical-align: top;\n",
       "    }\n",
       "\n",
       "    .dataframe thead th {\n",
       "        text-align: right;\n",
       "    }\n",
       "</style>\n",
       "<table border=\"1\" class=\"dataframe\">\n",
       "  <thead>\n",
       "    <tr style=\"text-align: right;\">\n",
       "      <th></th>\n",
       "      <th>titleId</th>\n",
       "      <th>ordering</th>\n",
       "      <th>title</th>\n",
       "      <th>region</th>\n",
       "      <th>language</th>\n",
       "      <th>types</th>\n",
       "      <th>attributes</th>\n",
       "      <th>isOriginalTitle</th>\n",
       "    </tr>\n",
       "  </thead>\n",
       "  <tbody>\n",
       "    <tr>\n",
       "      <th>0</th>\n",
       "      <td>tt0000001</td>\n",
       "      <td>1</td>\n",
       "      <td>Карменсіта</td>\n",
       "      <td>UA</td>\n",
       "      <td>\\N</td>\n",
       "      <td>imdbDisplay</td>\n",
       "      <td>\\N</td>\n",
       "      <td>0</td>\n",
       "    </tr>\n",
       "    <tr>\n",
       "      <th>1</th>\n",
       "      <td>tt0000001</td>\n",
       "      <td>2</td>\n",
       "      <td>Carmencita</td>\n",
       "      <td>DE</td>\n",
       "      <td>\\N</td>\n",
       "      <td>\\N</td>\n",
       "      <td>literal title</td>\n",
       "      <td>0</td>\n",
       "    </tr>\n",
       "    <tr>\n",
       "      <th>2</th>\n",
       "      <td>tt0000001</td>\n",
       "      <td>3</td>\n",
       "      <td>Carmencita - spanyol tánc</td>\n",
       "      <td>HU</td>\n",
       "      <td>\\N</td>\n",
       "      <td>imdbDisplay</td>\n",
       "      <td>\\N</td>\n",
       "      <td>0</td>\n",
       "    </tr>\n",
       "    <tr>\n",
       "      <th>3</th>\n",
       "      <td>tt0000001</td>\n",
       "      <td>4</td>\n",
       "      <td>Καρμενσίτα</td>\n",
       "      <td>GR</td>\n",
       "      <td>\\N</td>\n",
       "      <td>imdbDisplay</td>\n",
       "      <td>\\N</td>\n",
       "      <td>0</td>\n",
       "    </tr>\n",
       "    <tr>\n",
       "      <th>4</th>\n",
       "      <td>tt0000001</td>\n",
       "      <td>5</td>\n",
       "      <td>Карменсита</td>\n",
       "      <td>RU</td>\n",
       "      <td>\\N</td>\n",
       "      <td>imdbDisplay</td>\n",
       "      <td>\\N</td>\n",
       "      <td>0</td>\n",
       "    </tr>\n",
       "  </tbody>\n",
       "</table>\n",
       "</div>"
      ],
      "text/plain": [
       "     titleId  ordering                      title region language  \\\n",
       "0  tt0000001         1                 Карменсіта     UA       \\N   \n",
       "1  tt0000001         2                 Carmencita     DE       \\N   \n",
       "2  tt0000001         3  Carmencita - spanyol tánc     HU       \\N   \n",
       "3  tt0000001         4                 Καρμενσίτα     GR       \\N   \n",
       "4  tt0000001         5                 Карменсита     RU       \\N   \n",
       "\n",
       "         types     attributes isOriginalTitle  \n",
       "0  imdbDisplay             \\N               0  \n",
       "1           \\N  literal title               0  \n",
       "2  imdbDisplay             \\N               0  \n",
       "3  imdbDisplay             \\N               0  \n",
       "4  imdbDisplay             \\N               0  "
      ]
     },
     "execution_count": 33,
     "metadata": {},
     "output_type": "execute_result"
    }
   ],
   "source": [
    "akas.head()"
   ]
  },
  {
   "cell_type": "code",
   "execution_count": 36,
   "id": "a4fb392d-5df7-4596-9467-0f9d04330cd0",
   "metadata": {},
   "outputs": [],
   "source": [
    "#Replace \"\\N\" with np.nan:\n",
    "akas.replace(\"\\\\N\", np.nan, inplace=True)"
   ]
  },
  {
   "cell_type": "code",
   "execution_count": 47,
   "id": "a126f3a8-67be-40b7-8614-f093361217a2",
   "metadata": {},
   "outputs": [],
   "source": [
    "# Keep only US movies\n",
    "df_us_movies = akas[akas['region'] == 'US']\n"
   ]
  },
  {
   "cell_type": "code",
   "execution_count": 49,
   "id": "522c1c70-878b-4363-bbec-85060f832917",
   "metadata": {},
   "outputs": [
    {
     "data": {
      "text/html": [
       "<div>\n",
       "<style scoped>\n",
       "    .dataframe tbody tr th:only-of-type {\n",
       "        vertical-align: middle;\n",
       "    }\n",
       "\n",
       "    .dataframe tbody tr th {\n",
       "        vertical-align: top;\n",
       "    }\n",
       "\n",
       "    .dataframe thead th {\n",
       "        text-align: right;\n",
       "    }\n",
       "</style>\n",
       "<table border=\"1\" class=\"dataframe\">\n",
       "  <thead>\n",
       "    <tr style=\"text-align: right;\">\n",
       "      <th></th>\n",
       "      <th>titleId</th>\n",
       "      <th>ordering</th>\n",
       "      <th>title</th>\n",
       "      <th>region</th>\n",
       "      <th>language</th>\n",
       "      <th>types</th>\n",
       "      <th>attributes</th>\n",
       "      <th>isOriginalTitle</th>\n",
       "    </tr>\n",
       "  </thead>\n",
       "  <tbody>\n",
       "    <tr>\n",
       "      <th>5</th>\n",
       "      <td>tt0000001</td>\n",
       "      <td>6</td>\n",
       "      <td>Carmencita</td>\n",
       "      <td>US</td>\n",
       "      <td>NaN</td>\n",
       "      <td>imdbDisplay</td>\n",
       "      <td>NaN</td>\n",
       "      <td>0</td>\n",
       "    </tr>\n",
       "    <tr>\n",
       "      <th>14</th>\n",
       "      <td>tt0000002</td>\n",
       "      <td>7</td>\n",
       "      <td>The Clown and His Dogs</td>\n",
       "      <td>US</td>\n",
       "      <td>NaN</td>\n",
       "      <td>NaN</td>\n",
       "      <td>literal English title</td>\n",
       "      <td>0</td>\n",
       "    </tr>\n",
       "    <tr>\n",
       "      <th>33</th>\n",
       "      <td>tt0000005</td>\n",
       "      <td>10</td>\n",
       "      <td>Blacksmith Scene</td>\n",
       "      <td>US</td>\n",
       "      <td>NaN</td>\n",
       "      <td>imdbDisplay</td>\n",
       "      <td>NaN</td>\n",
       "      <td>0</td>\n",
       "    </tr>\n",
       "    <tr>\n",
       "      <th>36</th>\n",
       "      <td>tt0000005</td>\n",
       "      <td>1</td>\n",
       "      <td>Blacksmithing Scene</td>\n",
       "      <td>US</td>\n",
       "      <td>NaN</td>\n",
       "      <td>alternative</td>\n",
       "      <td>NaN</td>\n",
       "      <td>0</td>\n",
       "    </tr>\n",
       "    <tr>\n",
       "      <th>41</th>\n",
       "      <td>tt0000005</td>\n",
       "      <td>6</td>\n",
       "      <td>Blacksmith Scene #1</td>\n",
       "      <td>US</td>\n",
       "      <td>NaN</td>\n",
       "      <td>alternative</td>\n",
       "      <td>NaN</td>\n",
       "      <td>0</td>\n",
       "    </tr>\n",
       "  </tbody>\n",
       "</table>\n",
       "</div>"
      ],
      "text/plain": [
       "      titleId  ordering                   title region language        types  \\\n",
       "5   tt0000001         6              Carmencita     US      NaN  imdbDisplay   \n",
       "14  tt0000002         7  The Clown and His Dogs     US      NaN          NaN   \n",
       "33  tt0000005        10        Blacksmith Scene     US      NaN  imdbDisplay   \n",
       "36  tt0000005         1     Blacksmithing Scene     US      NaN  alternative   \n",
       "41  tt0000005         6     Blacksmith Scene #1     US      NaN  alternative   \n",
       "\n",
       "               attributes isOriginalTitle  \n",
       "5                     NaN               0  \n",
       "14  literal English title               0  \n",
       "33                    NaN               0  \n",
       "36                    NaN               0  \n",
       "41                    NaN               0  "
      ]
     },
     "execution_count": 49,
     "metadata": {},
     "output_type": "execute_result"
    }
   ],
   "source": [
    "df_us_movies.head()"
   ]
  },
  {
   "cell_type": "code",
   "execution_count": 51,
   "id": "970f9f93-6dea-4258-9a3a-4765aa3058cb",
   "metadata": {},
   "outputs": [],
   "source": [
    "ratings = pd.read_csv(ratings_url, sep='\\t', low_memory=False)"
   ]
  },
  {
   "cell_type": "code",
   "execution_count": 52,
   "id": "f88c71e6-d977-4829-a389-4b7583433c02",
   "metadata": {},
   "outputs": [
    {
     "data": {
      "text/html": [
       "<div>\n",
       "<style scoped>\n",
       "    .dataframe tbody tr th:only-of-type {\n",
       "        vertical-align: middle;\n",
       "    }\n",
       "\n",
       "    .dataframe tbody tr th {\n",
       "        vertical-align: top;\n",
       "    }\n",
       "\n",
       "    .dataframe thead th {\n",
       "        text-align: right;\n",
       "    }\n",
       "</style>\n",
       "<table border=\"1\" class=\"dataframe\">\n",
       "  <thead>\n",
       "    <tr style=\"text-align: right;\">\n",
       "      <th></th>\n",
       "      <th>tconst</th>\n",
       "      <th>averageRating</th>\n",
       "      <th>numVotes</th>\n",
       "    </tr>\n",
       "  </thead>\n",
       "  <tbody>\n",
       "    <tr>\n",
       "      <th>0</th>\n",
       "      <td>tt0000001</td>\n",
       "      <td>5.7</td>\n",
       "      <td>2002</td>\n",
       "    </tr>\n",
       "    <tr>\n",
       "      <th>1</th>\n",
       "      <td>tt0000002</td>\n",
       "      <td>5.8</td>\n",
       "      <td>269</td>\n",
       "    </tr>\n",
       "    <tr>\n",
       "      <th>2</th>\n",
       "      <td>tt0000003</td>\n",
       "      <td>6.5</td>\n",
       "      <td>1893</td>\n",
       "    </tr>\n",
       "    <tr>\n",
       "      <th>3</th>\n",
       "      <td>tt0000004</td>\n",
       "      <td>5.5</td>\n",
       "      <td>178</td>\n",
       "    </tr>\n",
       "    <tr>\n",
       "      <th>4</th>\n",
       "      <td>tt0000005</td>\n",
       "      <td>6.2</td>\n",
       "      <td>2678</td>\n",
       "    </tr>\n",
       "  </tbody>\n",
       "</table>\n",
       "</div>"
      ],
      "text/plain": [
       "      tconst  averageRating  numVotes\n",
       "0  tt0000001            5.7      2002\n",
       "1  tt0000002            5.8       269\n",
       "2  tt0000003            6.5      1893\n",
       "3  tt0000004            5.5       178\n",
       "4  tt0000005            6.2      2678"
      ]
     },
     "execution_count": 52,
     "metadata": {},
     "output_type": "execute_result"
    }
   ],
   "source": [
    "ratings.head()"
   ]
  },
  {
   "cell_type": "code",
   "execution_count": 54,
   "id": "a8002134-b2c6-4a7d-bb8e-f61a036e4251",
   "metadata": {},
   "outputs": [],
   "source": [
    "#Replace \"\\N\" with np.nan (if any)\n",
    "ratings.replace(\"\\\\N\", np.nan, inplace=True)"
   ]
  },
  {
   "cell_type": "code",
   "execution_count": 64,
   "id": "2258a206-5a11-4dff-aef8-b0fa4f632c24",
   "metadata": {},
   "outputs": [],
   "source": [
    "\n",
    "# Keep only US movies\n",
    "us_ratings = ratings.merge(akas[akas['region'] == 'US'], left_on='tconst', right_on='titleId', how='inner')\n",
    "\n"
   ]
  },
  {
   "cell_type": "code",
   "execution_count": 62,
   "id": "5f0fe270-bba8-449b-a9a3-cd23aec8fa6a",
   "metadata": {},
   "outputs": [
    {
     "name": "stdout",
     "output_type": "stream",
     "text": [
      "Columns in 'ratings': Index(['tconst', 'averageRating', 'numVotes'], dtype='object')\n",
      "Columns in 'akas': Index(['titleId', 'ordering', 'title', 'region', 'language', 'types',\n",
      "       'attributes', 'isOriginalTitle'],\n",
      "      dtype='object')\n"
     ]
    }
   ],
   "source": [
    "print(\"Columns in 'ratings':\", ratings.columns)\n",
    "print(\"Columns in 'akas':\", df_us_movies.columns)\n",
    "\n"
   ]
  },
  {
   "cell_type": "code",
   "execution_count": 67,
   "id": "3fb8f0db-9789-4b5e-b436-b24329acd2ef",
   "metadata": {},
   "outputs": [
    {
     "data": {
      "text/plain": [
       "[]"
      ]
     },
     "execution_count": 67,
     "metadata": {},
     "output_type": "execute_result"
    }
   ],
   "source": [
    "# example making new folder with os\n",
    "import os\n",
    "os.makedirs('Data/',exist_ok=True) \n",
    "# Confirm folder created\n",
    "os.listdir(\"Data/\")\n"
   ]
  },
  {
   "cell_type": "code",
   "execution_count": 72,
   "id": "4fc63760-881e-4c5b-bf5d-a2e195556d43",
   "metadata": {},
   "outputs": [],
   "source": [
    "## Save current dataframe to file.\n",
    "basics.to_csv(\"Data/title_basics.csv.gz\",compression='gzip',index=False)"
   ]
  },
  {
   "cell_type": "code",
   "execution_count": 73,
   "id": "5d183db8-fbc6-4e15-99be-19078014d72c",
   "metadata": {},
   "outputs": [],
   "source": [
    "## Save current dataframe to file.\n",
    "akas.to_csv(\"Data/title_akas.csv.gz\",compression='gzip',index=False)"
   ]
  },
  {
   "cell_type": "code",
   "execution_count": 79,
   "id": "b9241382-579e-4c98-ae9b-63f704f312ca",
   "metadata": {},
   "outputs": [],
   "source": [
    "## Save current dataframe to file.\n",
    "ratings.to_csv(\"Data/title_ratings.csv.gz\",compression='gzip',index=False)\n"
   ]
  },
  {
   "cell_type": "code",
   "execution_count": 70,
   "id": "1743fe15-7c0d-4fa0-9beb-828cc691d14e",
   "metadata": {},
   "outputs": [],
   "source": [
    "us_ratings.to_csv('Data/us_ratings.csv.gz', index=False, compression='gzip')\n"
   ]
  },
  {
   "cell_type": "code",
   "execution_count": 71,
   "id": "abd4b099-fe20-4493-9780-408651a9481f",
   "metadata": {},
   "outputs": [],
   "source": [
    "us_movies.to_csv('Data/us_movies.csv.gz', index=False, compression='gzip')"
   ]
  },
  {
   "cell_type": "code",
   "execution_count": 74,
   "id": "4722fd0a-593e-4b0a-a238-0f9f98b2ac9e",
   "metadata": {},
   "outputs": [],
   "source": [
    "\n",
    "df_us_movies.to_csv('Data/df_us_movies.csv.gz', index=False, compression='gzip')"
   ]
  },
  {
   "cell_type": "code",
   "execution_count": 76,
   "id": "42d6264a-fc67-48d5-9c35-93f661f73120",
   "metadata": {},
   "outputs": [
    {
     "name": "stdout",
     "output_type": "stream",
     "text": [
      "<class 'pandas.core.frame.DataFrame'>\n",
      "Int64Index: 569750 entries, 0 to 569749\n",
      "Data columns (total 11 columns):\n",
      " #   Column           Non-Null Count   Dtype  \n",
      "---  ------           --------------   -----  \n",
      " 0   tconst           569750 non-null  object \n",
      " 1   averageRating    569750 non-null  float64\n",
      " 2   numVotes         569750 non-null  int64  \n",
      " 3   titleId          569750 non-null  object \n",
      " 4   ordering         569750 non-null  int64  \n",
      " 5   title            569750 non-null  object \n",
      " 6   region           569750 non-null  object \n",
      " 7   language         2856 non-null    object \n",
      " 8   types            374499 non-null  object \n",
      " 9   attributes       30293 non-null   object \n",
      " 10  isOriginalTitle  569750 non-null  object \n",
      "dtypes: float64(1), int64(2), object(8)\n",
      "memory usage: 52.2+ MB\n"
     ]
    }
   ],
   "source": [
    "us_ratings.info()"
   ]
  },
  {
   "cell_type": "code",
   "execution_count": 77,
   "id": "c4a71f7c-3310-4355-81df-a84dc3b848ec",
   "metadata": {},
   "outputs": [
    {
     "name": "stdout",
     "output_type": "stream",
     "text": [
      "<class 'pandas.core.frame.DataFrame'>\n",
      "Int64Index: 97161 entries, 0 to 97160\n",
      "Data columns (total 17 columns):\n",
      " #   Column           Non-Null Count  Dtype \n",
      "---  ------           --------------  ----- \n",
      " 0   tconst           97161 non-null  object\n",
      " 1   titleType        97161 non-null  object\n",
      " 2   primaryTitle     97161 non-null  object\n",
      " 3   originalTitle    97161 non-null  object\n",
      " 4   isAdult          97161 non-null  object\n",
      " 5   startYear        97161 non-null  int32 \n",
      " 6   endYear          0 non-null      object\n",
      " 7   runtimeMinutes   97161 non-null  object\n",
      " 8   genres           97161 non-null  object\n",
      " 9   titleId          97161 non-null  object\n",
      " 10  ordering         97161 non-null  int64 \n",
      " 11  title            97161 non-null  object\n",
      " 12  region           97161 non-null  object\n",
      " 13  language         97161 non-null  object\n",
      " 14  types            97161 non-null  object\n",
      " 15  attributes       97161 non-null  object\n",
      " 16  isOriginalTitle  97161 non-null  object\n",
      "dtypes: int32(1), int64(1), object(15)\n",
      "memory usage: 13.0+ MB\n"
     ]
    }
   ],
   "source": [
    "us_movies.info()"
   ]
  },
  {
   "cell_type": "code",
   "execution_count": 78,
   "id": "047a2e89-e64a-469b-b588-01b96bce6913",
   "metadata": {},
   "outputs": [
    {
     "name": "stdout",
     "output_type": "stream",
     "text": [
      "<class 'pandas.core.frame.DataFrame'>\n",
      "Int64Index: 1472163 entries, 5 to 37516964\n",
      "Data columns (total 8 columns):\n",
      " #   Column           Non-Null Count    Dtype \n",
      "---  ------           --------------    ----- \n",
      " 0   titleId          1472163 non-null  object\n",
      " 1   ordering         1472163 non-null  int64 \n",
      " 2   title            1472163 non-null  object\n",
      " 3   region           1472163 non-null  object\n",
      " 4   language         4168 non-null     object\n",
      " 5   types            984662 non-null   object\n",
      " 6   attributes       47623 non-null    object\n",
      " 7   isOriginalTitle  1470822 non-null  object\n",
      "dtypes: int64(1), object(7)\n",
      "memory usage: 101.1+ MB\n"
     ]
    }
   ],
   "source": [
    "df_us_movies.info()"
   ]
  },
  {
   "cell_type": "code",
   "execution_count": null,
   "id": "8bb08720-739c-45f0-9e0d-923bbd6fa0f6",
   "metadata": {},
   "outputs": [],
   "source": []
  }
 ],
 "metadata": {
  "kernelspec": {
   "display_name": "Python (dojo-env)",
   "language": "python",
   "name": "dojo-env"
  },
  "language_info": {
   "codemirror_mode": {
    "name": "ipython",
    "version": 3
   },
   "file_extension": ".py",
   "mimetype": "text/x-python",
   "name": "python",
   "nbconvert_exporter": "python",
   "pygments_lexer": "ipython3",
   "version": "3.10.10"
  },
  "widgets": {
   "application/vnd.jupyter.widget-state+json": {
    "state": {},
    "version_major": 2,
    "version_minor": 0
   }
  }
 },
 "nbformat": 4,
 "nbformat_minor": 5
}
