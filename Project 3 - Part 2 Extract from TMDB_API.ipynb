{
 "cells": [
  {
   "cell_type": "markdown",
   "id": "615725e3-bd38-4d51-a44a-c91e452ff0f2",
   "metadata": {},
   "source": [
    "# Imports"
   ]
  },
  {
   "cell_type": "code",
   "execution_count": 43,
   "id": "1fae3031-9e79-4225-88d3-b5f0daa98a59",
   "metadata": {},
   "outputs": [
    {
     "data": {
      "text/plain": [
       "['.ipynb_checkpoints',\n",
       " 'final_tmdb_data_2000.csv.gz',\n",
       " 'final_tmdb_data_2001.csv.gz',\n",
       " 'title_basics.csv.gz',\n",
       " 'tmdb_api_results_2000.json',\n",
       " 'tmdb_api_results_2001.json']"
      ]
     },
     "execution_count": 43,
     "metadata": {},
     "output_type": "execute_result"
    }
   ],
   "source": [
    "import json\n",
    "import os, time,json\n",
    "import tmdbsimple as tmdb\n",
    "import pandas as pd\n",
    "from tqdm.notebook import tqdm_notebook\n",
    "import matplotlib.pyplot as plt\n",
    "FOLDER = \"C:/Users/Shaun/Documents/GitHub/Data_Enrichment/Data/\"\n",
    "os.makedirs(FOLDER, exist_ok=True)\n",
    "os.listdir(FOLDER)\n"
   ]
  },
  {
   "cell_type": "markdown",
   "id": "a59b3fec-2411-4034-8ce3-cacde8135cf2",
   "metadata": {},
   "source": [
    "# Funtions"
   ]
  },
  {
   "cell_type": "code",
   "execution_count": 27,
   "id": "e3b70aae-486c-4d4d-b058-071e2d151158",
   "metadata": {},
   "outputs": [],
   "source": [
    "def get_movie_with_rating(movie_id):\n",
    "        movie = tmdb.Movies(movie_id)\n",
    "        info = movie.info()\n",
    "        \n",
    "        release = movie.releases()\n",
    "        for c in release['countries']:\n",
    "            if c['iso_3166_1'] == 'US':\n",
    "                info['certification'] = c['certification']\n",
    "\n",
    "        return info"
   ]
  },
  {
   "cell_type": "code",
   "execution_count": 28,
   "id": "78b348d5-b8a9-4ef2-93f3-339680506dc1",
   "metadata": {},
   "outputs": [],
   "source": [
    "def write_json(new_data, filename): \n",
    "    \"\"\"Appends a list of records (new_data) to a json file (filename). \n",
    "    Adapted from: https://www.geeksforgeeks.org/append-to-json-file-using-python/\"\"\"  \n",
    "    \n",
    "    with open(filename,'r+') as file:\n",
    "        # First we load existing data into a dict.\n",
    "        file_data = json.load(file)\n",
    "        ## Choose extend or append\n",
    "        if (type(new_data) == list) & (type(file_data) == list):\n",
    "            file_data.extend(new_data)\n",
    "        else:\n",
    "             file_data.append(new_data)\n",
    "        # Sets file's current position at offset.\n",
    "        file.seek(0)\n",
    "        # convert back to json.\n",
    "        json.dump(file_data, file)\n"
   ]
  },
  {
   "cell_type": "code",
   "execution_count": 29,
   "id": "9e675a80-862c-4280-b423-5dc1e601244e",
   "metadata": {},
   "outputs": [
    {
     "data": {
      "text/plain": [
       "dict_keys(['client-id', 'api-key'])"
      ]
     },
     "execution_count": 29,
     "metadata": {},
     "output_type": "execute_result"
    }
   ],
   "source": [
    "with open('C:/Users/Shaun/Desktop/.secret/tmdb_api.json') as f: #change the path to match YOUR path!!\n",
    "    login = json.load(f)\n",
    "login.keys()"
   ]
  },
  {
   "cell_type": "code",
   "execution_count": 30,
   "id": "6d17ecdc-1415-492a-8ee0-d96fa586dae7",
   "metadata": {},
   "outputs": [],
   "source": [
    "tmdb.API_KEY =  login['api-key']"
   ]
  },
  {
   "cell_type": "markdown",
   "id": "768484f7-7af2-4199-9e0f-a152454aaec0",
   "metadata": {},
   "source": [
    "# TEST CONNECTION "
   ]
  },
  {
   "cell_type": "code",
   "execution_count": 38,
   "id": "d1184fa6-fb75-45f6-be0c-00e5d12000a8",
   "metadata": {},
   "outputs": [
    {
     "data": {
      "text/plain": [
       "{'adult': False,\n",
       " 'backdrop_path': '/qom1SZSENdmHFNZBXbtJAU0WTlC.jpg',\n",
       " 'belongs_to_collection': None,\n",
       " 'budget': 29000000,\n",
       " 'genres': [{'id': 10749, 'name': 'Romance'}, {'id': 18, 'name': 'Drama'}],\n",
       " 'homepage': 'http://www.newline.com/properties/notebookthe.html',\n",
       " 'id': 11036,\n",
       " 'imdb_id': 'tt0332280',\n",
       " 'original_language': 'en',\n",
       " 'original_title': 'The Notebook',\n",
       " 'overview': \"An epic love story centered around an older man who reads aloud to a woman with Alzheimer's. From a faded notebook, the old man's words bring to life the story about a couple who is separated by World War II, and is then passionately reunited, seven years later, after they have taken different paths.\",\n",
       " 'popularity': 55.665,\n",
       " 'poster_path': '/rNzQyW4f8B8cQeg7Dgj3n6eT5k9.jpg',\n",
       " 'production_companies': [{'id': 12,\n",
       "   'logo_path': '/mevhneWSqbjU22D1MXNd4H9x0r0.png',\n",
       "   'name': 'New Line Cinema',\n",
       "   'origin_country': 'US'},\n",
       "  {'id': 1565, 'logo_path': None, 'name': 'Avery Pix', 'origin_country': 'US'},\n",
       "  {'id': 2605,\n",
       "   'logo_path': None,\n",
       "   'name': 'Gran Via Productions',\n",
       "   'origin_country': 'US'}],\n",
       " 'production_countries': [{'iso_3166_1': 'US',\n",
       "   'name': 'United States of America'}],\n",
       " 'release_date': '2004-06-25',\n",
       " 'revenue': 115603229,\n",
       " 'runtime': 123,\n",
       " 'spoken_languages': [{'english_name': 'English',\n",
       "   'iso_639_1': 'en',\n",
       "   'name': 'English'}],\n",
       " 'status': 'Released',\n",
       " 'tagline': 'Behind every great love is a great story.',\n",
       " 'title': 'The Notebook',\n",
       " 'video': False,\n",
       " 'vote_average': 7.88,\n",
       " 'vote_count': 10688,\n",
       " 'certification': 'PG-13'}"
      ]
     },
     "execution_count": 38,
     "metadata": {},
     "output_type": "execute_result"
    }
   ],
   "source": [
    "test = get_movie_with_rating(\"tt0332280\") \n",
    "test"
   ]
  },
  {
   "cell_type": "code",
   "execution_count": 39,
   "id": "eea88e9b-7626-43be-bd5d-d250e57c5a42",
   "metadata": {},
   "outputs": [
    {
     "data": {
      "text/plain": [
       "{'adult': False,\n",
       " 'backdrop_path': '/9BBTo63ANSmhC4e6r62OJFuK2GL.jpg',\n",
       " 'belongs_to_collection': {'id': 86311,\n",
       "  'name': 'The Avengers Collection',\n",
       "  'poster_path': '/yFSIUVTCvgYrpalUktulvk3Gi5Y.jpg',\n",
       "  'backdrop_path': '/zuW6fOiusv4X9nnW3paHGfXcSll.jpg'},\n",
       " 'budget': 220000000,\n",
       " 'genres': [{'id': 878, 'name': 'Science Fiction'},\n",
       "  {'id': 28, 'name': 'Action'},\n",
       "  {'id': 12, 'name': 'Adventure'}],\n",
       " 'homepage': 'https://www.marvel.com/movies/the-avengers',\n",
       " 'id': 24428,\n",
       " 'imdb_id': 'tt0848228',\n",
       " 'original_language': 'en',\n",
       " 'original_title': 'The Avengers',\n",
       " 'overview': 'When an unexpected enemy emerges and threatens global safety and security, Nick Fury, director of the international peacekeeping agency known as S.H.I.E.L.D., finds himself in need of a team to pull the world back from the brink of disaster. Spanning the globe, a daring recruitment effort begins!',\n",
       " 'popularity': 124.297,\n",
       " 'poster_path': '/RYMX2wcKCBAr24UyPD7xwmjaTn.jpg',\n",
       " 'production_companies': [{'id': 420,\n",
       "   'logo_path': '/hUzeosd33nzE5MCNsZxCGEKTXaQ.png',\n",
       "   'name': 'Marvel Studios',\n",
       "   'origin_country': 'US'}],\n",
       " 'production_countries': [{'iso_3166_1': 'US',\n",
       "   'name': 'United States of America'}],\n",
       " 'release_date': '2012-04-25',\n",
       " 'revenue': 1518815515,\n",
       " 'runtime': 143,\n",
       " 'spoken_languages': [{'english_name': 'English',\n",
       "   'iso_639_1': 'en',\n",
       "   'name': 'English'},\n",
       "  {'english_name': 'Hindi', 'iso_639_1': 'hi', 'name': 'हिन्दी'},\n",
       "  {'english_name': 'Russian', 'iso_639_1': 'ru', 'name': 'Pусский'}],\n",
       " 'status': 'Released',\n",
       " 'tagline': 'Some assembly required.',\n",
       " 'title': 'The Avengers',\n",
       " 'video': False,\n",
       " 'vote_average': 7.71,\n",
       " 'vote_count': 29274,\n",
       " 'certification': 'PG-13'}"
      ]
     },
     "execution_count": 39,
     "metadata": {},
     "output_type": "execute_result"
    }
   ],
   "source": [
    "test2 = get_movie_with_rating(\"tt0848228\") #put your function name here\n",
    "test2"
   ]
  },
  {
   "cell_type": "markdown",
   "id": "1879a593-0b03-4562-8e95-0cd706a2fe54",
   "metadata": {},
   "source": [
    "# Load Project 1 Data"
   ]
  },
  {
   "cell_type": "code",
   "execution_count": 31,
   "id": "3817b0f1-8385-4163-8df2-f62c15170c5d",
   "metadata": {},
   "outputs": [],
   "source": [
    "# Load in the dataframe from project part 1 as basics:\n",
    "basics = pd.read_csv('C:/Users/Shaun/Documents/GitHub/Data_Enrichment/Data/title_basics.csv.gz')\n"
   ]
  },
  {
   "cell_type": "code",
   "execution_count": 36,
   "id": "cf7cb342-dcb1-42f2-852f-107d1b292ff2",
   "metadata": {},
   "outputs": [
    {
     "data": {
      "text/plain": [
       "2002    3003\n",
       "2001    2882\n",
       "2000    2758\n",
       "Name: startYear, dtype: int64"
      ]
     },
     "execution_count": 36,
     "metadata": {},
     "output_type": "execute_result"
    }
   ],
   "source": [
    "basics['startYear'].value_counts()"
   ]
  },
  {
   "cell_type": "code",
   "execution_count": 37,
   "id": "826ab7c1-71f5-41eb-a3c2-3beee83d90e7",
   "metadata": {},
   "outputs": [
    {
     "data": {
      "text/html": [
       "<div>\n",
       "<style scoped>\n",
       "    .dataframe tbody tr th:only-of-type {\n",
       "        vertical-align: middle;\n",
       "    }\n",
       "\n",
       "    .dataframe tbody tr th {\n",
       "        vertical-align: top;\n",
       "    }\n",
       "\n",
       "    .dataframe thead th {\n",
       "        text-align: right;\n",
       "    }\n",
       "</style>\n",
       "<table border=\"1\" class=\"dataframe\">\n",
       "  <thead>\n",
       "    <tr style=\"text-align: right;\">\n",
       "      <th></th>\n",
       "      <th>tconst</th>\n",
       "      <th>titleType</th>\n",
       "      <th>primaryTitle</th>\n",
       "      <th>originalTitle</th>\n",
       "      <th>isAdult</th>\n",
       "      <th>startYear</th>\n",
       "      <th>endYear</th>\n",
       "      <th>runtimeMinutes</th>\n",
       "      <th>genres</th>\n",
       "    </tr>\n",
       "  </thead>\n",
       "  <tbody>\n",
       "    <tr>\n",
       "      <th>0</th>\n",
       "      <td>tt0035423</td>\n",
       "      <td>movie</td>\n",
       "      <td>Kate &amp; Leopold</td>\n",
       "      <td>Kate &amp; Leopold</td>\n",
       "      <td>0</td>\n",
       "      <td>2001</td>\n",
       "      <td>NaN</td>\n",
       "      <td>118</td>\n",
       "      <td>Comedy,Fantasy,Romance</td>\n",
       "    </tr>\n",
       "    <tr>\n",
       "      <th>1</th>\n",
       "      <td>tt0096056</td>\n",
       "      <td>movie</td>\n",
       "      <td>Crime and Punishment</td>\n",
       "      <td>Crime and Punishment</td>\n",
       "      <td>0</td>\n",
       "      <td>2002</td>\n",
       "      <td>NaN</td>\n",
       "      <td>126</td>\n",
       "      <td>Drama</td>\n",
       "    </tr>\n",
       "    <tr>\n",
       "      <th>2</th>\n",
       "      <td>tt0102362</td>\n",
       "      <td>movie</td>\n",
       "      <td>Istota</td>\n",
       "      <td>Istota</td>\n",
       "      <td>0</td>\n",
       "      <td>2000</td>\n",
       "      <td>NaN</td>\n",
       "      <td>80</td>\n",
       "      <td>Drama,Romance</td>\n",
       "    </tr>\n",
       "    <tr>\n",
       "      <th>3</th>\n",
       "      <td>tt0112912</td>\n",
       "      <td>movie</td>\n",
       "      <td>Dune 7</td>\n",
       "      <td>Dune 7</td>\n",
       "      <td>0</td>\n",
       "      <td>2002</td>\n",
       "      <td>NaN</td>\n",
       "      <td>97</td>\n",
       "      <td>Adventure</td>\n",
       "    </tr>\n",
       "    <tr>\n",
       "      <th>4</th>\n",
       "      <td>tt0113026</td>\n",
       "      <td>movie</td>\n",
       "      <td>The Fantasticks</td>\n",
       "      <td>The Fantasticks</td>\n",
       "      <td>0</td>\n",
       "      <td>2000</td>\n",
       "      <td>NaN</td>\n",
       "      <td>86</td>\n",
       "      <td>Musical,Romance</td>\n",
       "    </tr>\n",
       "  </tbody>\n",
       "</table>\n",
       "</div>"
      ],
      "text/plain": [
       "      tconst titleType          primaryTitle         originalTitle  isAdult  \\\n",
       "0  tt0035423     movie        Kate & Leopold        Kate & Leopold        0   \n",
       "1  tt0096056     movie  Crime and Punishment  Crime and Punishment        0   \n",
       "2  tt0102362     movie                Istota                Istota        0   \n",
       "3  tt0112912     movie                Dune 7                Dune 7        0   \n",
       "4  tt0113026     movie       The Fantasticks       The Fantasticks        0   \n",
       "\n",
       "   startYear  endYear  runtimeMinutes                  genres  \n",
       "0       2001      NaN             118  Comedy,Fantasy,Romance  \n",
       "1       2002      NaN             126                   Drama  \n",
       "2       2000      NaN              80           Drama,Romance  \n",
       "3       2002      NaN              97               Adventure  \n",
       "4       2000      NaN              86         Musical,Romance  "
      ]
     },
     "execution_count": 37,
     "metadata": {},
     "output_type": "execute_result"
    }
   ],
   "source": [
    "basics.head()"
   ]
  },
  {
   "cell_type": "code",
   "execution_count": 32,
   "id": "21180c9f-483c-4584-a633-015a93001c21",
   "metadata": {},
   "outputs": [],
   "source": [
    "YEARS_TO_GET = [2000,2001]"
   ]
  },
  {
   "cell_type": "code",
   "execution_count": 33,
   "id": "178a7dfc-5131-4a02-bb7d-93d9650d60b5",
   "metadata": {},
   "outputs": [],
   "source": [
    "errors = [ ]"
   ]
  },
  {
   "cell_type": "markdown",
   "id": "ec538c47-c870-40ff-921d-33e4a32c0a91",
   "metadata": {},
   "source": [
    "# Outer / Inner Loop"
   ]
  },
  {
   "cell_type": "code",
   "execution_count": 35,
   "id": "f0af716c-32c5-415b-bb75-81b173fac907",
   "metadata": {
    "scrolled": true
   },
   "outputs": [
    {
     "data": {
      "application/vnd.jupyter.widget-view+json": {
       "model_id": "f0716201a95847ef82afac8b5add8940",
       "version_major": 2,
       "version_minor": 0
      },
      "text/plain": [
       "YEARS:   0%|          | 0/2 [00:00<?, ?it/s]"
      ]
     },
     "metadata": {},
     "output_type": "display_data"
    },
    {
     "data": {
      "application/vnd.jupyter.widget-view+json": {
       "model_id": "d1b5ff598e414746a5e9fb61b9759413",
       "version_major": 2,
       "version_minor": 0
      },
      "text/plain": [
       "Movies from 2000:   0%|          | 0/2758 [00:00<?, ?it/s]"
      ]
     },
     "metadata": {},
     "output_type": "display_data"
    },
    {
     "data": {
      "application/vnd.jupyter.widget-view+json": {
       "model_id": "003114773eee449881eb45baef09e7ea",
       "version_major": 2,
       "version_minor": 0
      },
      "text/plain": [
       "Movies from 2001:   0%|          | 0/2609 [00:00<?, ?it/s]"
      ]
     },
     "metadata": {},
     "output_type": "display_data"
    },
    {
     "name": "stdout",
     "output_type": "stream",
     "text": [
      "- Total errors: 1074\n"
     ]
    }
   ],
   "source": [
    "# Start of OUTER loop\n",
    "for YEAR in tqdm_notebook(YEARS_TO_GET, desc='YEARS', position=0):\n",
    "    # Defining the JSON file to store results for the year\n",
    "    JSON_FILE = f'{FOLDER}tmdb_api_results_{YEAR}.json'\n",
    "    \n",
    "    # Check if the file exists\n",
    "    file_exists = os.path.isfile(JSON_FILE)\n",
    "    \n",
    "    # If it does not exist: create it\n",
    "    if not file_exists:  # Simplified condition\n",
    "        # Save an empty dict with just \"imdb_id\" to the new json file.\n",
    "        with open(JSON_FILE, 'w') as f:\n",
    "            json.dump([{'imdb_id': 0}], f)\n",
    "\n",
    "    # Saving the new year as the current df\n",
    "    df = basics.loc[basics['startYear'] == YEAR].copy()\n",
    "    # Saving movie ids to list\n",
    "    movie_ids = df['tconst'].copy()\n",
    "\n",
    "    # Load existing data from json into a dataframe called \"previous_df\"\n",
    "    previous_df = pd.read_json(JSON_FILE)\n",
    "\n",
    "    # Filter out any ids that are already in the JSON_FILE\n",
    "    movie_ids_to_get = movie_ids[~movie_ids.isin(previous_df['imdb_id'])]\n",
    "\n",
    "    # Get index and movie id from the list\n",
    "    # INNER Loop\n",
    "    for movie_id in tqdm_notebook(movie_ids_to_get,\n",
    "                                  desc=f'Movies from {YEAR}',\n",
    "                                  position=1,\n",
    "                                  leave=True):\n",
    "        try:\n",
    "            # Retrieve the data for the movie id\n",
    "            temp = get_movie_with_rating(movie_id)\n",
    "            # Append/extend results to the existing file using a pre-made function\n",
    "            write_json(temp, JSON_FILE)\n",
    "            # Short 20 ms sleep to prevent overwhelming the server\n",
    "            time.sleep(0.02)\n",
    "\n",
    "        except Exception as e:\n",
    "            errors.append([movie_id, e])\n",
    "\n",
    "    final_year_df = pd.read_json(JSON_FILE)\n",
    "    final_year_df.to_csv(f\"{FOLDER}final_tmdb_data_{YEAR}.csv.gz\", compression=\"gzip\", index=False)\n",
    "\n",
    "print(f\"- Total errors: {len(errors)}\")\n"
   ]
  }
 ],
 "metadata": {
  "kernelspec": {
   "display_name": "Python 3 (ipykernel)",
   "language": "python",
   "name": "python3"
  },
  "language_info": {
   "codemirror_mode": {
    "name": "ipython",
    "version": 3
   },
   "file_extension": ".py",
   "mimetype": "text/x-python",
   "name": "python",
   "nbconvert_exporter": "python",
   "pygments_lexer": "ipython3",
   "version": "3.10.10"
  },
  "widgets": {
   "application/vnd.jupyter.widget-state+json": {
    "state": {
     "003114773eee449881eb45baef09e7ea": {
      "model_module": "@jupyter-widgets/controls",
      "model_module_version": "2.0.0",
      "model_name": "HBoxModel",
      "state": {
       "children": [
        "IPY_MODEL_0eb630fcbf734360b505c861dd08ba34",
        "IPY_MODEL_67e29649c35e45448388a4cbf8f32f78",
        "IPY_MODEL_6c5bde3cbcbd4f57ad02ab5639bcf118"
       ],
       "layout": "IPY_MODEL_b4360420bd584b7ea1b9543781beb6b4"
      }
     },
     "02f2ff9e2d494437bc8b2810ca110280": {
      "model_module": "@jupyter-widgets/base",
      "model_module_version": "2.0.0",
      "model_name": "LayoutModel",
      "state": {}
     },
     "08595cdd9afd42b09a9f9a4f34338277": {
      "model_module": "@jupyter-widgets/controls",
      "model_module_version": "2.0.0",
      "model_name": "HTMLModel",
      "state": {
       "layout": "IPY_MODEL_d811f3c9772641b0bc267822764b273c",
       "style": "IPY_MODEL_93e7af0b1c154308894ce84cb99319d5",
       "value": " 2/2 [2:25:54&lt;00:00, 4387.16s/it]"
      }
     },
     "0caceb4e3f004244af7e83457d7dbf1a": {
      "model_module": "@jupyter-widgets/base",
      "model_module_version": "2.0.0",
      "model_name": "LayoutModel",
      "state": {}
     },
     "0d0e8fea8fec4254a4b58e0161b1909a": {
      "model_module": "@jupyter-widgets/base",
      "model_module_version": "2.0.0",
      "model_name": "LayoutModel",
      "state": {}
     },
     "0eb630fcbf734360b505c861dd08ba34": {
      "model_module": "@jupyter-widgets/controls",
      "model_module_version": "2.0.0",
      "model_name": "HTMLModel",
      "state": {
       "layout": "IPY_MODEL_4fde5070970b4429ab1ec70f215c5d5f",
       "style": "IPY_MODEL_16826d91b56c489c8490952e37c5f7e8",
       "value": "Movies from 2001: 100%"
      }
     },
     "0f70703ffb654fb988919d72e94ec2ad": {
      "model_module": "@jupyter-widgets/controls",
      "model_module_version": "2.0.0",
      "model_name": "HTMLStyleModel",
      "state": {
       "description_width": "",
       "font_size": null,
       "text_color": null
      }
     },
     "104e90ef8b3949749ea0398812e534d6": {
      "model_module": "@jupyter-widgets/base",
      "model_module_version": "2.0.0",
      "model_name": "LayoutModel",
      "state": {}
     },
     "1075b81a8c0b458cb5da40d7ff7ff4e6": {
      "model_module": "@jupyter-widgets/controls",
      "model_module_version": "2.0.0",
      "model_name": "HTMLModel",
      "state": {
       "layout": "IPY_MODEL_02f2ff9e2d494437bc8b2810ca110280",
       "style": "IPY_MODEL_4f4f309e05dc46c8ae8a2b290ddbd30c",
       "value": " 2/2 [00:00&lt;00:00, 166.24it/s]"
      }
     },
     "13826b98d8e741f8a09c0a4fb75bb38f": {
      "model_module": "@jupyter-widgets/controls",
      "model_module_version": "2.0.0",
      "model_name": "ProgressStyleModel",
      "state": {
       "description_width": ""
      }
     },
     "15fd8737ac2f4693a9e7850cde0ba109": {
      "model_module": "@jupyter-widgets/controls",
      "model_module_version": "2.0.0",
      "model_name": "HTMLModel",
      "state": {
       "layout": "IPY_MODEL_ac4f710d34a547ccbcf75ad63e571753",
       "style": "IPY_MODEL_0f70703ffb654fb988919d72e94ec2ad",
       "value": "Movies from 2001:  10%"
      }
     },
     "16826d91b56c489c8490952e37c5f7e8": {
      "model_module": "@jupyter-widgets/controls",
      "model_module_version": "2.0.0",
      "model_name": "HTMLStyleModel",
      "state": {
       "description_width": "",
       "font_size": null,
       "text_color": null
      }
     },
     "19990971fc3c4522b130a799b2138f65": {
      "model_module": "@jupyter-widgets/controls",
      "model_module_version": "2.0.0",
      "model_name": "ProgressStyleModel",
      "state": {
       "description_width": ""
      }
     },
     "199cdc30334d427fa37edd679ee007c4": {
      "model_module": "@jupyter-widgets/controls",
      "model_module_version": "2.0.0",
      "model_name": "HTMLStyleModel",
      "state": {
       "description_width": "",
       "font_size": null,
       "text_color": null
      }
     },
     "1cc71dda3067415eb9c986a4fef78aa1": {
      "model_module": "@jupyter-widgets/base",
      "model_module_version": "2.0.0",
      "model_name": "LayoutModel",
      "state": {}
     },
     "1fe653c827fd4f6092593d1a1cae1dd5": {
      "model_module": "@jupyter-widgets/base",
      "model_module_version": "2.0.0",
      "model_name": "LayoutModel",
      "state": {}
     },
     "211be6337c7e4a37ac9e0b1a0ffa7ab9": {
      "model_module": "@jupyter-widgets/base",
      "model_module_version": "2.0.0",
      "model_name": "LayoutModel",
      "state": {}
     },
     "258f52ca68064f349740b96d758db089": {
      "model_module": "@jupyter-widgets/base",
      "model_module_version": "2.0.0",
      "model_name": "LayoutModel",
      "state": {}
     },
     "26d018367eba47459702c60512f27251": {
      "model_module": "@jupyter-widgets/controls",
      "model_module_version": "2.0.0",
      "model_name": "HTMLModel",
      "state": {
       "layout": "IPY_MODEL_9a047b53570d4c3884ec4cec53a7c66f",
       "style": "IPY_MODEL_fd079a702a68422d9aaf140d933a812c",
       "value": "YEARS: 100%"
      }
     },
     "279017a1c19e40dc8eea901c2360a02f": {
      "model_module": "@jupyter-widgets/controls",
      "model_module_version": "2.0.0",
      "model_name": "FloatProgressModel",
      "state": {
       "bar_style": "success",
       "layout": "IPY_MODEL_104e90ef8b3949749ea0398812e534d6",
       "max": 2,
       "style": "IPY_MODEL_eea46083989344e1a58064bf0fbbec32",
       "value": 2
      }
     },
     "2a8c88366e8a4014a7a908fa81afb097": {
      "model_module": "@jupyter-widgets/controls",
      "model_module_version": "2.0.0",
      "model_name": "ProgressStyleModel",
      "state": {
       "description_width": ""
      }
     },
     "2d27ab3f42ce434cb2b674f196357c58": {
      "model_module": "@jupyter-widgets/base",
      "model_module_version": "2.0.0",
      "model_name": "LayoutModel",
      "state": {}
     },
     "2e1f11928bcc4f3d94d608c1be9e69f8": {
      "model_module": "@jupyter-widgets/base",
      "model_module_version": "2.0.0",
      "model_name": "LayoutModel",
      "state": {}
     },
     "2e2e0eddb2694fdf8bc2a61cf9272cbf": {
      "model_module": "@jupyter-widgets/controls",
      "model_module_version": "2.0.0",
      "model_name": "HBoxModel",
      "state": {
       "children": [
        "IPY_MODEL_75fe2e1b17774c31920c06eaed287944",
        "IPY_MODEL_c2f95f4a589e428684776929a01a6798",
        "IPY_MODEL_c15059e610dd42f6822c7a28f345e0a5"
       ],
       "layout": "IPY_MODEL_965472e70e3648caa15044968b696393"
      }
     },
     "2eb8ff676d624a4194b865e0dcaeaec6": {
      "model_module": "@jupyter-widgets/base",
      "model_module_version": "2.0.0",
      "model_name": "LayoutModel",
      "state": {}
     },
     "2ec7383715d140e4a0f765bfbcaeb956": {
      "model_module": "@jupyter-widgets/controls",
      "model_module_version": "2.0.0",
      "model_name": "HTMLModel",
      "state": {
       "layout": "IPY_MODEL_0caceb4e3f004244af7e83457d7dbf1a",
       "style": "IPY_MODEL_56bc2830272842c8b8fe337b89dc36d1",
       "value": "YEARS: 100%"
      }
     },
     "2fc7600e6a9a4b2da18302db3df9ff7c": {
      "model_module": "@jupyter-widgets/base",
      "model_module_version": "2.0.0",
      "model_name": "LayoutModel",
      "state": {}
     },
     "30963c7e05fa4de18a97834546dbe423": {
      "model_module": "@jupyter-widgets/controls",
      "model_module_version": "2.0.0",
      "model_name": "FloatProgressModel",
      "state": {
       "bar_style": "success",
       "layout": "IPY_MODEL_492f9e380750440d80b40c751269b6c6",
       "max": 2,
       "style": "IPY_MODEL_87c4cfd8db674b1b9ebbae1a1910262a",
       "value": 2
      }
     },
     "34a3abc99916477a86fad24b21c2d60e": {
      "model_module": "@jupyter-widgets/controls",
      "model_module_version": "2.0.0",
      "model_name": "HTMLStyleModel",
      "state": {
       "description_width": "",
       "font_size": null,
       "text_color": null
      }
     },
     "36ff57b488bf4302a3967f46bd6937ba": {
      "model_module": "@jupyter-widgets/controls",
      "model_module_version": "2.0.0",
      "model_name": "HTMLModel",
      "state": {
       "layout": "IPY_MODEL_cda91654da1946b7915417af80e12bea",
       "style": "IPY_MODEL_87d938e5b2824abc9cf85b7380231a7b",
       "value": " 2758/2758 [1:12:00&lt;00:00,  1.41s/it]"
      }
     },
     "379cdce1ba644c04aaafa653feb448c4": {
      "model_module": "@jupyter-widgets/controls",
      "model_module_version": "2.0.0",
      "model_name": "FloatProgressModel",
      "state": {
       "bar_style": "danger",
       "layout": "IPY_MODEL_a86c87cf024b43309b79b68bf2211a3c",
       "max": 2882,
       "style": "IPY_MODEL_13826b98d8e741f8a09c0a4fb75bb38f",
       "value": 290
      }
     },
     "380afab45f42455c88a6d186dffcae4a": {
      "model_module": "@jupyter-widgets/controls",
      "model_module_version": "2.0.0",
      "model_name": "HBoxModel",
      "state": {
       "children": [
        "IPY_MODEL_98dccb2505bd402386d50687e6ed06dc",
        "IPY_MODEL_47aa487fd6794c6e89e2b2f3086003d7",
        "IPY_MODEL_f3e4132abc9b484fb535e72b617f087b"
       ],
       "layout": "IPY_MODEL_1cc71dda3067415eb9c986a4fef78aa1"
      }
     },
     "3955c81a419742a0a04445b1ad56a012": {
      "model_module": "@jupyter-widgets/controls",
      "model_module_version": "2.0.0",
      "model_name": "HTMLModel",
      "state": {
       "layout": "IPY_MODEL_5ff78c510eb840dcbf9b3b18b8a17bde",
       "style": "IPY_MODEL_199cdc30334d427fa37edd679ee007c4",
       "value": " 2882/2882 [00:00&lt;00:00, 193420.12it/s]"
      }
     },
     "442d1714665143d5b0ac011bd5bf2f04": {
      "model_module": "@jupyter-widgets/controls",
      "model_module_version": "2.0.0",
      "model_name": "HTMLStyleModel",
      "state": {
       "description_width": "",
       "font_size": null,
       "text_color": null
      }
     },
     "45f95b0b6163482d9732c5df12fd1bda": {
      "model_module": "@jupyter-widgets/base",
      "model_module_version": "2.0.0",
      "model_name": "LayoutModel",
      "state": {}
     },
     "47aa487fd6794c6e89e2b2f3086003d7": {
      "model_module": "@jupyter-widgets/controls",
      "model_module_version": "2.0.0",
      "model_name": "FloatProgressModel",
      "state": {
       "bar_style": "success",
       "layout": "IPY_MODEL_211be6337c7e4a37ac9e0b1a0ffa7ab9",
       "max": 2882,
       "style": "IPY_MODEL_d5ce0d4f8ba74b7c9fe3aa1295def385",
       "value": 2882
      }
     },
     "492f9e380750440d80b40c751269b6c6": {
      "model_module": "@jupyter-widgets/base",
      "model_module_version": "2.0.0",
      "model_name": "LayoutModel",
      "state": {}
     },
     "4ae7cd03ffcb487394bc9d4d5ebdd8a4": {
      "model_module": "@jupyter-widgets/base",
      "model_module_version": "2.0.0",
      "model_name": "LayoutModel",
      "state": {}
     },
     "4d31d9aeb46344c6b97cb3d22555f27a": {
      "model_module": "@jupyter-widgets/controls",
      "model_module_version": "2.0.0",
      "model_name": "HTMLStyleModel",
      "state": {
       "description_width": "",
       "font_size": null,
       "text_color": null
      }
     },
     "4f217b87c2ec492ab0b28f4a0bb05e23": {
      "model_module": "@jupyter-widgets/controls",
      "model_module_version": "2.0.0",
      "model_name": "HTMLModel",
      "state": {
       "layout": "IPY_MODEL_b7ad33bdd4a54b3e9d19533f7ef1c98a",
       "style": "IPY_MODEL_5b3e34a6a2a443deb41df6a651172acb",
       "value": "Movies from 2001: 100%"
      }
     },
     "4f4f309e05dc46c8ae8a2b290ddbd30c": {
      "model_module": "@jupyter-widgets/controls",
      "model_module_version": "2.0.0",
      "model_name": "HTMLStyleModel",
      "state": {
       "description_width": "",
       "font_size": null,
       "text_color": null
      }
     },
     "4fde5070970b4429ab1ec70f215c5d5f": {
      "model_module": "@jupyter-widgets/base",
      "model_module_version": "2.0.0",
      "model_name": "LayoutModel",
      "state": {}
     },
     "52053212a86a4e74b1886fcad4406bf9": {
      "model_module": "@jupyter-widgets/controls",
      "model_module_version": "2.0.0",
      "model_name": "HTMLStyleModel",
      "state": {
       "description_width": "",
       "font_size": null,
       "text_color": null
      }
     },
     "531e097215884beeb4e14a6a6daa5c31": {
      "model_module": "@jupyter-widgets/base",
      "model_module_version": "2.0.0",
      "model_name": "LayoutModel",
      "state": {}
     },
     "54899e2528034031be7a89a4bb72212f": {
      "model_module": "@jupyter-widgets/controls",
      "model_module_version": "2.0.0",
      "model_name": "ProgressStyleModel",
      "state": {
       "description_width": ""
      }
     },
     "565b148694654d348e9555557ef6520d": {
      "model_module": "@jupyter-widgets/controls",
      "model_module_version": "2.0.0",
      "model_name": "HTMLModel",
      "state": {
       "layout": "IPY_MODEL_4ae7cd03ffcb487394bc9d4d5ebdd8a4",
       "style": "IPY_MODEL_442d1714665143d5b0ac011bd5bf2f04",
       "value": " 290/2882 [03:52&lt;36:38,  1.18it/s]"
      }
     },
     "56bc2830272842c8b8fe337b89dc36d1": {
      "model_module": "@jupyter-widgets/controls",
      "model_module_version": "2.0.0",
      "model_name": "HTMLStyleModel",
      "state": {
       "description_width": "",
       "font_size": null,
       "text_color": null
      }
     },
     "5b3e34a6a2a443deb41df6a651172acb": {
      "model_module": "@jupyter-widgets/controls",
      "model_module_version": "2.0.0",
      "model_name": "HTMLStyleModel",
      "state": {
       "description_width": "",
       "font_size": null,
       "text_color": null
      }
     },
     "5c033d62c19f4cd79ff270f536d73d67": {
      "model_module": "@jupyter-widgets/controls",
      "model_module_version": "2.0.0",
      "model_name": "ProgressStyleModel",
      "state": {
       "description_width": ""
      }
     },
     "5ff78c510eb840dcbf9b3b18b8a17bde": {
      "model_module": "@jupyter-widgets/base",
      "model_module_version": "2.0.0",
      "model_name": "LayoutModel",
      "state": {}
     },
     "6517f54855c74bd9b27dfd19c21ae663": {
      "model_module": "@jupyter-widgets/base",
      "model_module_version": "2.0.0",
      "model_name": "LayoutModel",
      "state": {}
     },
     "67e29649c35e45448388a4cbf8f32f78": {
      "model_module": "@jupyter-widgets/controls",
      "model_module_version": "2.0.0",
      "model_name": "FloatProgressModel",
      "state": {
       "bar_style": "success",
       "layout": "IPY_MODEL_2d27ab3f42ce434cb2b674f196357c58",
       "max": 2609,
       "style": "IPY_MODEL_2a8c88366e8a4014a7a908fa81afb097",
       "value": 2609
      }
     },
     "68209209356a48afba9ad30bd7efc3d5": {
      "model_module": "@jupyter-widgets/base",
      "model_module_version": "2.0.0",
      "model_name": "LayoutModel",
      "state": {}
     },
     "6c5bde3cbcbd4f57ad02ab5639bcf118": {
      "model_module": "@jupyter-widgets/controls",
      "model_module_version": "2.0.0",
      "model_name": "HTMLModel",
      "state": {
       "layout": "IPY_MODEL_45f95b0b6163482d9732c5df12fd1bda",
       "style": "IPY_MODEL_e2800a9da4c04b86ad10beeb6a327191",
       "value": " 2609/2609 [1:13:53&lt;00:00,  1.22it/s]"
      }
     },
     "75fe2e1b17774c31920c06eaed287944": {
      "model_module": "@jupyter-widgets/controls",
      "model_module_version": "2.0.0",
      "model_name": "HTMLModel",
      "state": {
       "layout": "IPY_MODEL_f37abeff5f094cca8920c6737d63ae99",
       "style": "IPY_MODEL_92cc59951a9b4fa7b8f4e874ce0661c9",
       "value": "Movies from 2001: 100%"
      }
     },
     "77738e2c0dc643c499b20b78152ef78c": {
      "model_module": "@jupyter-widgets/controls",
      "model_module_version": "2.0.0",
      "model_name": "HTMLModel",
      "state": {
       "layout": "IPY_MODEL_eaad312f5a554a1d87879138bfd3ee46",
       "style": "IPY_MODEL_9c9370073ce2465484806ce4ba15920c",
       "value": " 2/2 [00:00&lt;00:00, 100.12it/s]"
      }
     },
     "8213d660ffc040968ede67944ce6b164": {
      "model_module": "@jupyter-widgets/controls",
      "model_module_version": "2.0.0",
      "model_name": "FloatProgressModel",
      "state": {
       "bar_style": "success",
       "layout": "IPY_MODEL_0d0e8fea8fec4254a4b58e0161b1909a",
       "max": 2758,
       "style": "IPY_MODEL_a00ec50f899e473f8acf4f07e16a3fa7",
       "value": 2758
      }
     },
     "8340a970b8c6495888d0ff27086b849d": {
      "model_module": "@jupyter-widgets/base",
      "model_module_version": "2.0.0",
      "model_name": "LayoutModel",
      "state": {}
     },
     "87c4cfd8db674b1b9ebbae1a1910262a": {
      "model_module": "@jupyter-widgets/controls",
      "model_module_version": "2.0.0",
      "model_name": "ProgressStyleModel",
      "state": {
       "description_width": ""
      }
     },
     "87d938e5b2824abc9cf85b7380231a7b": {
      "model_module": "@jupyter-widgets/controls",
      "model_module_version": "2.0.0",
      "model_name": "HTMLStyleModel",
      "state": {
       "description_width": "",
       "font_size": null,
       "text_color": null
      }
     },
     "8d7c6544845f47bbacb407936f43e8fc": {
      "model_module": "@jupyter-widgets/controls",
      "model_module_version": "2.0.0",
      "model_name": "HTMLModel",
      "state": {
       "layout": "IPY_MODEL_d30502c70b054563998b3af9a9ecb59f",
       "style": "IPY_MODEL_91a33429ba7b4fa88af9765962b15f6e",
       "value": "Movies from 2000: 100%"
      }
     },
     "8dfac663ad6c4c76b5ef612ae8651a46": {
      "model_module": "@jupyter-widgets/controls",
      "model_module_version": "2.0.0",
      "model_name": "HTMLModel",
      "state": {
       "layout": "IPY_MODEL_fbed7c5a8cb746cc9edc14a977d28f73",
       "style": "IPY_MODEL_34a3abc99916477a86fad24b21c2d60e",
       "value": " 2/2 [00:00&lt;00:00, 152.47it/s]"
      }
     },
     "91a33429ba7b4fa88af9765962b15f6e": {
      "model_module": "@jupyter-widgets/controls",
      "model_module_version": "2.0.0",
      "model_name": "HTMLStyleModel",
      "state": {
       "description_width": "",
       "font_size": null,
       "text_color": null
      }
     },
     "92cc59951a9b4fa7b8f4e874ce0661c9": {
      "model_module": "@jupyter-widgets/controls",
      "model_module_version": "2.0.0",
      "model_name": "HTMLStyleModel",
      "state": {
       "description_width": "",
       "font_size": null,
       "text_color": null
      }
     },
     "93e7af0b1c154308894ce84cb99319d5": {
      "model_module": "@jupyter-widgets/controls",
      "model_module_version": "2.0.0",
      "model_name": "HTMLStyleModel",
      "state": {
       "description_width": "",
       "font_size": null,
       "text_color": null
      }
     },
     "965472e70e3648caa15044968b696393": {
      "model_module": "@jupyter-widgets/base",
      "model_module_version": "2.0.0",
      "model_name": "LayoutModel",
      "state": {}
     },
     "96f65f39f421473da0bc191931334ec2": {
      "model_module": "@jupyter-widgets/controls",
      "model_module_version": "2.0.0",
      "model_name": "HTMLStyleModel",
      "state": {
       "description_width": "",
       "font_size": null,
       "text_color": null
      }
     },
     "98dccb2505bd402386d50687e6ed06dc": {
      "model_module": "@jupyter-widgets/controls",
      "model_module_version": "2.0.0",
      "model_name": "HTMLModel",
      "state": {
       "layout": "IPY_MODEL_d526e56b65dc473282a37a13957ca28e",
       "style": "IPY_MODEL_52053212a86a4e74b1886fcad4406bf9",
       "value": "Movies from 2001: 100%"
      }
     },
     "9a047b53570d4c3884ec4cec53a7c66f": {
      "model_module": "@jupyter-widgets/base",
      "model_module_version": "2.0.0",
      "model_name": "LayoutModel",
      "state": {}
     },
     "9c0b44b626a74ab8be4a6b131e67994d": {
      "model_module": "@jupyter-widgets/controls",
      "model_module_version": "2.0.0",
      "model_name": "FloatProgressModel",
      "state": {
       "bar_style": "success",
       "layout": "IPY_MODEL_2e1f11928bcc4f3d94d608c1be9e69f8",
       "max": 2882,
       "style": "IPY_MODEL_e1a09287b3f84c0f9ffc4a15a0c82966",
       "value": 2882
      }
     },
     "9c9370073ce2465484806ce4ba15920c": {
      "model_module": "@jupyter-widgets/controls",
      "model_module_version": "2.0.0",
      "model_name": "HTMLStyleModel",
      "state": {
       "description_width": "",
       "font_size": null,
       "text_color": null
      }
     },
     "a00ec50f899e473f8acf4f07e16a3fa7": {
      "model_module": "@jupyter-widgets/controls",
      "model_module_version": "2.0.0",
      "model_name": "ProgressStyleModel",
      "state": {
       "description_width": ""
      }
     },
     "a32a2c91055c44b48176b64052981035": {
      "model_module": "@jupyter-widgets/controls",
      "model_module_version": "2.0.0",
      "model_name": "ProgressStyleModel",
      "state": {
       "description_width": ""
      }
     },
     "a43ed0d6dfe44f4ba1b3aac75b76252e": {
      "model_module": "@jupyter-widgets/controls",
      "model_module_version": "2.0.0",
      "model_name": "HTMLModel",
      "state": {
       "layout": "IPY_MODEL_f97a99a48c57431ba213aa5712d62138",
       "style": "IPY_MODEL_d0e5964e0a4c43fd9e1fab8cd80ad447",
       "value": "YEARS: 100%"
      }
     },
     "a638f09973ba4614990b890d594f0c53": {
      "model_module": "@jupyter-widgets/controls",
      "model_module_version": "2.0.0",
      "model_name": "HBoxModel",
      "state": {
       "children": [
        "IPY_MODEL_26d018367eba47459702c60512f27251",
        "IPY_MODEL_b8ca3d8fb7314f90b5b060f12fd1f244",
        "IPY_MODEL_77738e2c0dc643c499b20b78152ef78c"
       ],
       "layout": "IPY_MODEL_e7e6cd4e4e2e41e4a41fd34af6d49e31"
      }
     },
     "a722f7ce011b45e2901f281023e3bc88": {
      "model_module": "@jupyter-widgets/controls",
      "model_module_version": "2.0.0",
      "model_name": "HBoxModel",
      "state": {
       "children": [
        "IPY_MODEL_ba0da220a9084bf8a360373a9b37b05f",
        "IPY_MODEL_eee46fa8314d4a4e80675d5593eaa5e1",
        "IPY_MODEL_1075b81a8c0b458cb5da40d7ff7ff4e6"
       ],
       "layout": "IPY_MODEL_6517f54855c74bd9b27dfd19c21ae663"
      }
     },
     "a723e17172994e78bdb303622a1fc7d4": {
      "model_module": "@jupyter-widgets/controls",
      "model_module_version": "2.0.0",
      "model_name": "HTMLStyleModel",
      "state": {
       "description_width": "",
       "font_size": null,
       "text_color": null
      }
     },
     "a86c87cf024b43309b79b68bf2211a3c": {
      "model_module": "@jupyter-widgets/base",
      "model_module_version": "2.0.0",
      "model_name": "LayoutModel",
      "state": {}
     },
     "ac4f710d34a547ccbcf75ad63e571753": {
      "model_module": "@jupyter-widgets/base",
      "model_module_version": "2.0.0",
      "model_name": "LayoutModel",
      "state": {}
     },
     "b4360420bd584b7ea1b9543781beb6b4": {
      "model_module": "@jupyter-widgets/base",
      "model_module_version": "2.0.0",
      "model_name": "LayoutModel",
      "state": {}
     },
     "b6e406227acb414ea1e91666dc812d9b": {
      "model_module": "@jupyter-widgets/controls",
      "model_module_version": "2.0.0",
      "model_name": "HBoxModel",
      "state": {
       "children": [
        "IPY_MODEL_4f217b87c2ec492ab0b28f4a0bb05e23",
        "IPY_MODEL_9c0b44b626a74ab8be4a6b131e67994d",
        "IPY_MODEL_3955c81a419742a0a04445b1ad56a012"
       ],
       "layout": "IPY_MODEL_f229ca36effe40298d227927f253b211"
      }
     },
     "b7ad33bdd4a54b3e9d19533f7ef1c98a": {
      "model_module": "@jupyter-widgets/base",
      "model_module_version": "2.0.0",
      "model_name": "LayoutModel",
      "state": {}
     },
     "b8aec8cfe5354802addfdc45ff9eb4de": {
      "model_module": "@jupyter-widgets/controls",
      "model_module_version": "2.0.0",
      "model_name": "HBoxModel",
      "state": {
       "children": [
        "IPY_MODEL_a43ed0d6dfe44f4ba1b3aac75b76252e",
        "IPY_MODEL_30963c7e05fa4de18a97834546dbe423",
        "IPY_MODEL_8dfac663ad6c4c76b5ef612ae8651a46"
       ],
       "layout": "IPY_MODEL_dbb924f1f97e47688a90f752c6ff1de9"
      }
     },
     "b8ca3d8fb7314f90b5b060f12fd1f244": {
      "model_module": "@jupyter-widgets/controls",
      "model_module_version": "2.0.0",
      "model_name": "FloatProgressModel",
      "state": {
       "bar_style": "success",
       "layout": "IPY_MODEL_258f52ca68064f349740b96d758db089",
       "max": 2,
       "style": "IPY_MODEL_5c033d62c19f4cd79ff270f536d73d67",
       "value": 2
      }
     },
     "ba0da220a9084bf8a360373a9b37b05f": {
      "model_module": "@jupyter-widgets/controls",
      "model_module_version": "2.0.0",
      "model_name": "HTMLModel",
      "state": {
       "layout": "IPY_MODEL_8340a970b8c6495888d0ff27086b849d",
       "style": "IPY_MODEL_a723e17172994e78bdb303622a1fc7d4",
       "value": "YEARS: 100%"
      }
     },
     "c15059e610dd42f6822c7a28f345e0a5": {
      "model_module": "@jupyter-widgets/controls",
      "model_module_version": "2.0.0",
      "model_name": "HTMLModel",
      "state": {
       "layout": "IPY_MODEL_f965d5e5e0e04023ac435123e8b23ebc",
       "style": "IPY_MODEL_4d31d9aeb46344c6b97cb3d22555f27a",
       "value": " 2882/2882 [00:00&lt;00:00, 233336.24it/s]"
      }
     },
     "c2f95f4a589e428684776929a01a6798": {
      "model_module": "@jupyter-widgets/controls",
      "model_module_version": "2.0.0",
      "model_name": "FloatProgressModel",
      "state": {
       "bar_style": "success",
       "layout": "IPY_MODEL_531e097215884beeb4e14a6a6daa5c31",
       "max": 2882,
       "style": "IPY_MODEL_a32a2c91055c44b48176b64052981035",
       "value": 2882
      }
     },
     "c51021bef1904cb0be7536108272d69f": {
      "model_module": "@jupyter-widgets/base",
      "model_module_version": "2.0.0",
      "model_name": "LayoutModel",
      "state": {}
     },
     "c8d49af0c70a41789dd714515b11b166": {
      "model_module": "@jupyter-widgets/controls",
      "model_module_version": "2.0.0",
      "model_name": "HTMLStyleModel",
      "state": {
       "description_width": "",
       "font_size": null,
       "text_color": null
      }
     },
     "cd3e974506db461cbc39c7b6a4eb4795": {
      "model_module": "@jupyter-widgets/base",
      "model_module_version": "2.0.0",
      "model_name": "LayoutModel",
      "state": {}
     },
     "cda91654da1946b7915417af80e12bea": {
      "model_module": "@jupyter-widgets/base",
      "model_module_version": "2.0.0",
      "model_name": "LayoutModel",
      "state": {}
     },
     "d0e5964e0a4c43fd9e1fab8cd80ad447": {
      "model_module": "@jupyter-widgets/controls",
      "model_module_version": "2.0.0",
      "model_name": "HTMLStyleModel",
      "state": {
       "description_width": "",
       "font_size": null,
       "text_color": null
      }
     },
     "d1b5ff598e414746a5e9fb61b9759413": {
      "model_module": "@jupyter-widgets/controls",
      "model_module_version": "2.0.0",
      "model_name": "HBoxModel",
      "state": {
       "children": [
        "IPY_MODEL_8d7c6544845f47bbacb407936f43e8fc",
        "IPY_MODEL_8213d660ffc040968ede67944ce6b164",
        "IPY_MODEL_36ff57b488bf4302a3967f46bd6937ba"
       ],
       "layout": "IPY_MODEL_2eb8ff676d624a4194b865e0dcaeaec6"
      }
     },
     "d30502c70b054563998b3af9a9ecb59f": {
      "model_module": "@jupyter-widgets/base",
      "model_module_version": "2.0.0",
      "model_name": "LayoutModel",
      "state": {}
     },
     "d526e56b65dc473282a37a13957ca28e": {
      "model_module": "@jupyter-widgets/base",
      "model_module_version": "2.0.0",
      "model_name": "LayoutModel",
      "state": {}
     },
     "d561af68e29c4af887e82abb93ec61c7": {
      "model_module": "@jupyter-widgets/controls",
      "model_module_version": "2.0.0",
      "model_name": "HBoxModel",
      "state": {
       "children": [
        "IPY_MODEL_15fd8737ac2f4693a9e7850cde0ba109",
        "IPY_MODEL_379cdce1ba644c04aaafa653feb448c4",
        "IPY_MODEL_565b148694654d348e9555557ef6520d"
       ],
       "layout": "IPY_MODEL_c51021bef1904cb0be7536108272d69f"
      }
     },
     "d5ce0d4f8ba74b7c9fe3aa1295def385": {
      "model_module": "@jupyter-widgets/controls",
      "model_module_version": "2.0.0",
      "model_name": "ProgressStyleModel",
      "state": {
       "description_width": ""
      }
     },
     "d811f3c9772641b0bc267822764b273c": {
      "model_module": "@jupyter-widgets/base",
      "model_module_version": "2.0.0",
      "model_name": "LayoutModel",
      "state": {}
     },
     "dbb924f1f97e47688a90f752c6ff1de9": {
      "model_module": "@jupyter-widgets/base",
      "model_module_version": "2.0.0",
      "model_name": "LayoutModel",
      "state": {}
     },
     "def33d6eb1544d289403bc43cf4a3418": {
      "model_module": "@jupyter-widgets/controls",
      "model_module_version": "2.0.0",
      "model_name": "HTMLStyleModel",
      "state": {
       "description_width": "",
       "font_size": null,
       "text_color": null
      }
     },
     "e1a09287b3f84c0f9ffc4a15a0c82966": {
      "model_module": "@jupyter-widgets/controls",
      "model_module_version": "2.0.0",
      "model_name": "ProgressStyleModel",
      "state": {
       "description_width": ""
      }
     },
     "e2800a9da4c04b86ad10beeb6a327191": {
      "model_module": "@jupyter-widgets/controls",
      "model_module_version": "2.0.0",
      "model_name": "HTMLStyleModel",
      "state": {
       "description_width": "",
       "font_size": null,
       "text_color": null
      }
     },
     "e7e6cd4e4e2e41e4a41fd34af6d49e31": {
      "model_module": "@jupyter-widgets/base",
      "model_module_version": "2.0.0",
      "model_name": "LayoutModel",
      "state": {}
     },
     "e91f0307768b4cb9840376108cabd0e9": {
      "model_module": "@jupyter-widgets/controls",
      "model_module_version": "2.0.0",
      "model_name": "FloatProgressModel",
      "state": {
       "bar_style": "success",
       "layout": "IPY_MODEL_2fc7600e6a9a4b2da18302db3df9ff7c",
       "max": 2,
       "style": "IPY_MODEL_54899e2528034031be7a89a4bb72212f",
       "value": 2
      }
     },
     "e9c355dabfca4a9ea399ee9261102ae3": {
      "model_module": "@jupyter-widgets/controls",
      "model_module_version": "2.0.0",
      "model_name": "HBoxModel",
      "state": {
       "children": [
        "IPY_MODEL_2ec7383715d140e4a0f765bfbcaeb956",
        "IPY_MODEL_e91f0307768b4cb9840376108cabd0e9",
        "IPY_MODEL_fa0404eb65694b7db8343a596585bc97"
       ],
       "layout": "IPY_MODEL_68209209356a48afba9ad30bd7efc3d5"
      }
     },
     "ea2c536ed49e452ea2ae2f68aa813ac7": {
      "model_module": "@jupyter-widgets/base",
      "model_module_version": "2.0.0",
      "model_name": "LayoutModel",
      "state": {}
     },
     "eaad312f5a554a1d87879138bfd3ee46": {
      "model_module": "@jupyter-widgets/base",
      "model_module_version": "2.0.0",
      "model_name": "LayoutModel",
      "state": {}
     },
     "eb152389811142feb724bd8941e65a2e": {
      "model_module": "@jupyter-widgets/base",
      "model_module_version": "2.0.0",
      "model_name": "LayoutModel",
      "state": {}
     },
     "ed28ecee6d094939a831a4a3315b0ccd": {
      "model_module": "@jupyter-widgets/base",
      "model_module_version": "2.0.0",
      "model_name": "LayoutModel",
      "state": {}
     },
     "eea46083989344e1a58064bf0fbbec32": {
      "model_module": "@jupyter-widgets/controls",
      "model_module_version": "2.0.0",
      "model_name": "ProgressStyleModel",
      "state": {
       "description_width": ""
      }
     },
     "eee46fa8314d4a4e80675d5593eaa5e1": {
      "model_module": "@jupyter-widgets/controls",
      "model_module_version": "2.0.0",
      "model_name": "FloatProgressModel",
      "state": {
       "bar_style": "success",
       "layout": "IPY_MODEL_ea2c536ed49e452ea2ae2f68aa813ac7",
       "max": 2,
       "style": "IPY_MODEL_19990971fc3c4522b130a799b2138f65",
       "value": 2
      }
     },
     "f0716201a95847ef82afac8b5add8940": {
      "model_module": "@jupyter-widgets/controls",
      "model_module_version": "2.0.0",
      "model_name": "HBoxModel",
      "state": {
       "children": [
        "IPY_MODEL_f914e9d00d8a495fbb1be1aae28593ce",
        "IPY_MODEL_279017a1c19e40dc8eea901c2360a02f",
        "IPY_MODEL_08595cdd9afd42b09a9f9a4f34338277"
       ],
       "layout": "IPY_MODEL_cd3e974506db461cbc39c7b6a4eb4795"
      }
     },
     "f229ca36effe40298d227927f253b211": {
      "model_module": "@jupyter-widgets/base",
      "model_module_version": "2.0.0",
      "model_name": "LayoutModel",
      "state": {}
     },
     "f37abeff5f094cca8920c6737d63ae99": {
      "model_module": "@jupyter-widgets/base",
      "model_module_version": "2.0.0",
      "model_name": "LayoutModel",
      "state": {}
     },
     "f3e4132abc9b484fb535e72b617f087b": {
      "model_module": "@jupyter-widgets/controls",
      "model_module_version": "2.0.0",
      "model_name": "HTMLModel",
      "state": {
       "layout": "IPY_MODEL_1fe653c827fd4f6092593d1a1cae1dd5",
       "style": "IPY_MODEL_c8d49af0c70a41789dd714515b11b166",
       "value": " 2882/2882 [00:00&lt;00:00, 38536.90it/s]"
      }
     },
     "f914e9d00d8a495fbb1be1aae28593ce": {
      "model_module": "@jupyter-widgets/controls",
      "model_module_version": "2.0.0",
      "model_name": "HTMLModel",
      "state": {
       "layout": "IPY_MODEL_eb152389811142feb724bd8941e65a2e",
       "style": "IPY_MODEL_96f65f39f421473da0bc191931334ec2",
       "value": "YEARS: 100%"
      }
     },
     "f965d5e5e0e04023ac435123e8b23ebc": {
      "model_module": "@jupyter-widgets/base",
      "model_module_version": "2.0.0",
      "model_name": "LayoutModel",
      "state": {}
     },
     "f97a99a48c57431ba213aa5712d62138": {
      "model_module": "@jupyter-widgets/base",
      "model_module_version": "2.0.0",
      "model_name": "LayoutModel",
      "state": {}
     },
     "fa0404eb65694b7db8343a596585bc97": {
      "model_module": "@jupyter-widgets/controls",
      "model_module_version": "2.0.0",
      "model_name": "HTMLModel",
      "state": {
       "layout": "IPY_MODEL_ed28ecee6d094939a831a4a3315b0ccd",
       "style": "IPY_MODEL_def33d6eb1544d289403bc43cf4a3418",
       "value": " 2/2 [00:00&lt;00:00, 101.40it/s]"
      }
     },
     "fbed7c5a8cb746cc9edc14a977d28f73": {
      "model_module": "@jupyter-widgets/base",
      "model_module_version": "2.0.0",
      "model_name": "LayoutModel",
      "state": {}
     },
     "fd079a702a68422d9aaf140d933a812c": {
      "model_module": "@jupyter-widgets/controls",
      "model_module_version": "2.0.0",
      "model_name": "HTMLStyleModel",
      "state": {
       "description_width": "",
       "font_size": null,
       "text_color": null
      }
     }
    },
    "version_major": 2,
    "version_minor": 0
   }
  }
 },
 "nbformat": 4,
 "nbformat_minor": 5
}
